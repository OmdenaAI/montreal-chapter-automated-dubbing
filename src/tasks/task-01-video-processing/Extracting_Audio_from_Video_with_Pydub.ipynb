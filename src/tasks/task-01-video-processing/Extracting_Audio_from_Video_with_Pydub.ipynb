{
  "nbformat": 4,
  "nbformat_minor": 0,
  "metadata": {
    "colab": {
      "provenance": []
    },
    "kernelspec": {
      "name": "python3",
      "display_name": "Python 3"
    },
    "language_info": {
      "name": "python"
    }
  },
  "cells": [
    {
      "cell_type": "code",
      "source": [
        "# Mount Google Drive\n",
        "from google.colab import drive\n",
        "drive.mount('/content/drive')"
      ],
      "metadata": {
        "id": "Icr5BssRO_YQ",
        "colab": {
          "base_uri": "https://localhost:8080/"
        },
        "outputId": "98dc908a-f560-4f2e-a381-c3808be2c8b2"
      },
      "execution_count": null,
      "outputs": [
        {
          "output_type": "stream",
          "name": "stdout",
          "text": [
            "Drive already mounted at /content/drive; to attempt to forcibly remount, call drive.mount(\"/content/drive\", force_remount=True).\n"
          ]
        }
      ]
    },
    {
      "cell_type": "code",
      "source": [
        "!pip install pydub"
      ],
      "metadata": {
        "colab": {
          "base_uri": "https://localhost:8080/"
        },
        "id": "rRhoMa6gPeS-",
        "outputId": "00b068f4-468e-4202-b6ee-88dac7f98732"
      },
      "execution_count": null,
      "outputs": [
        {
          "output_type": "stream",
          "name": "stdout",
          "text": [
            "Looking in indexes: https://pypi.org/simple, https://us-python.pkg.dev/colab-wheels/public/simple/\n",
            "Requirement already satisfied: pydub in /usr/local/lib/python3.10/dist-packages (0.25.1)\n"
          ]
        }
      ]
    },
    {
      "cell_type": "code",
      "execution_count": null,
      "metadata": {
        "id": "o_9ba8j-O3Wk"
      },
      "outputs": [],
      "source": [
        "import os\n",
        "import glob\n",
        "from pydub import AudioSegment\n",
        "\n",
        "\n",
        "video_dir = '/content/test_videos/'  # Path where the videos are located\n",
        "extension_list = ('*.mp4', '*.wav')  # Add file extensions\n",
        "\n",
        "os.chdir(video_dir) # Change the current working directory to the video directory:\n",
        "\n",
        "# Iterate over the files in the directory with the specified extension(s):\n",
        "for extension in extension_list:\n",
        "    for video in glob.glob(extension):\n",
        "      if os.path.isfile(video):  # Check if the current item is a file\n",
        "       \n",
        "        mp3_filename = os.path.splitext(os.path.basename(video))[0] + '.mp3' # Extract the filename without the extension and append '.mp3' to it:\n",
        "\n",
        "        AudioSegment.from_file(video).export(mp3_filename, format='mp3') # Use pydub to extract the audio from the video file and save it as an MP3 file:\n",
        "\n"
      ]
    }
  ]
}