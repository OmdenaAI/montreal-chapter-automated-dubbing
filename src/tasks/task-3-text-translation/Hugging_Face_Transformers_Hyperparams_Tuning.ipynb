{
  "nbformat": 4,
  "nbformat_minor": 0,
  "metadata": {
    "colab": {
      "provenance": [],
      "toc_visible": true,
      "gpuType": "T4"
    },
    "kernelspec": {
      "name": "python3",
      "display_name": "Python 3"
    },
    "language_info": {
      "name": "python"
    },
    "accelerator": "GPU"
  },
  "cells": [
    {
      "cell_type": "markdown",
      "source": [
        "# Mount on Drive"
      ],
      "metadata": {
        "id": "LPcjA8ye5tJL"
      }
    },
    {
      "cell_type": "code",
      "execution_count": 1,
      "metadata": {
        "colab": {
          "base_uri": "https://localhost:8080/"
        },
        "id": "jbzIA90Lzq10",
        "outputId": "123a8ffd-d434-4ef6-a452-f88c82b00e0b"
      },
      "outputs": [
        {
          "output_type": "stream",
          "name": "stdout",
          "text": [
            "Drive already mounted at /content/drive; to attempt to forcibly remount, call drive.mount(\"/content/drive\", force_remount=True).\n"
          ]
        }
      ],
      "source": [
        "from google.colab import drive\n",
        "drive.mount('/content/drive')"
      ]
    },
    {
      "cell_type": "markdown",
      "source": [
        "# Install Libraries"
      ],
      "metadata": {
        "id": "KSUIIuyf5xr5"
      }
    },
    {
      "cell_type": "code",
      "execution_count": 2,
      "metadata": {
        "id": "53NkQXwalySK",
        "colab": {
          "base_uri": "https://localhost:8080/"
        },
        "outputId": "da590021-fc1b-45ec-bb34-100e2ea3e89e"
      },
      "outputs": [
        {
          "output_type": "stream",
          "name": "stdout",
          "text": [
            "Looking in indexes: https://pypi.org/simple, https://us-python.pkg.dev/colab-wheels/public/simple/\n",
            "Requirement already satisfied: transformers in /usr/local/lib/python3.10/dist-packages (4.29.2)\n",
            "Requirement already satisfied: filelock in /usr/local/lib/python3.10/dist-packages (from transformers) (3.12.0)\n",
            "Requirement already satisfied: huggingface-hub<1.0,>=0.14.1 in /usr/local/lib/python3.10/dist-packages (from transformers) (0.15.1)\n",
            "Requirement already satisfied: numpy>=1.17 in /usr/local/lib/python3.10/dist-packages (from transformers) (1.22.4)\n",
            "Requirement already satisfied: packaging>=20.0 in /usr/local/lib/python3.10/dist-packages (from transformers) (23.1)\n",
            "Requirement already satisfied: pyyaml>=5.1 in /usr/local/lib/python3.10/dist-packages (from transformers) (6.0)\n",
            "Requirement already satisfied: regex!=2019.12.17 in /usr/local/lib/python3.10/dist-packages (from transformers) (2022.10.31)\n",
            "Requirement already satisfied: requests in /usr/local/lib/python3.10/dist-packages (from transformers) (2.27.1)\n",
            "Requirement already satisfied: tokenizers!=0.11.3,<0.14,>=0.11.1 in /usr/local/lib/python3.10/dist-packages (from transformers) (0.13.3)\n",
            "Requirement already satisfied: tqdm>=4.27 in /usr/local/lib/python3.10/dist-packages (from transformers) (4.65.0)\n",
            "Requirement already satisfied: fsspec in /usr/local/lib/python3.10/dist-packages (from huggingface-hub<1.0,>=0.14.1->transformers) (2023.4.0)\n",
            "Requirement already satisfied: typing-extensions>=3.7.4.3 in /usr/local/lib/python3.10/dist-packages (from huggingface-hub<1.0,>=0.14.1->transformers) (4.5.0)\n",
            "Requirement already satisfied: urllib3<1.27,>=1.21.1 in /usr/local/lib/python3.10/dist-packages (from requests->transformers) (1.26.15)\n",
            "Requirement already satisfied: certifi>=2017.4.17 in /usr/local/lib/python3.10/dist-packages (from requests->transformers) (2022.12.7)\n",
            "Requirement already satisfied: charset-normalizer~=2.0.0 in /usr/local/lib/python3.10/dist-packages (from requests->transformers) (2.0.12)\n",
            "Requirement already satisfied: idna<4,>=2.5 in /usr/local/lib/python3.10/dist-packages (from requests->transformers) (3.4)\n",
            "Looking in indexes: https://pypi.org/simple, https://us-python.pkg.dev/colab-wheels/public/simple/\n",
            "Requirement already satisfied: sentencepiece in /usr/local/lib/python3.10/dist-packages (0.1.99)\n"
          ]
        }
      ],
      "source": [
        "!pip install transformers\n",
        "!pip install sentencepiece\n"
      ]
    },
    {
      "cell_type": "code",
      "source": [
        "!pip install sacremoses"
      ],
      "metadata": {
        "id": "DpKr1MZwsLFE",
        "colab": {
          "base_uri": "https://localhost:8080/"
        },
        "outputId": "bb8155ed-86c8-4bdc-a297-7da4fa201721"
      },
      "execution_count": 3,
      "outputs": [
        {
          "output_type": "stream",
          "name": "stdout",
          "text": [
            "Looking in indexes: https://pypi.org/simple, https://us-python.pkg.dev/colab-wheels/public/simple/\n",
            "Requirement already satisfied: sacremoses in /usr/local/lib/python3.10/dist-packages (0.0.53)\n",
            "Requirement already satisfied: regex in /usr/local/lib/python3.10/dist-packages (from sacremoses) (2022.10.31)\n",
            "Requirement already satisfied: six in /usr/local/lib/python3.10/dist-packages (from sacremoses) (1.16.0)\n",
            "Requirement already satisfied: click in /usr/local/lib/python3.10/dist-packages (from sacremoses) (8.1.3)\n",
            "Requirement already satisfied: joblib in /usr/local/lib/python3.10/dist-packages (from sacremoses) (1.2.0)\n",
            "Requirement already satisfied: tqdm in /usr/local/lib/python3.10/dist-packages (from sacremoses) (4.65.0)\n"
          ]
        }
      ]
    },
    {
      "cell_type": "markdown",
      "source": [
        "# Import Libraries"
      ],
      "metadata": {
        "id": "3iXdf-Sd53Yx"
      }
    },
    {
      "cell_type": "code",
      "source": [
        "from transformers import MarianMTModel, MarianTokenizer"
      ],
      "metadata": {
        "id": "k0RTaq7ZmIoy"
      },
      "execution_count": 4,
      "outputs": []
    },
    {
      "cell_type": "markdown",
      "source": [
        "#Define Translation Function\n",
        "Create a function to translate text from English to a target language and back using a pre-trained model. The following parameters will be selected to compare the results of the translation\n",
        "\n",
        "\n",
        "\n",
        "*   num_beam\n",
        "*   do_sample\n",
        "*   top_k\n",
        "*   top_p\n",
        "\n",
        "\n",
        "\n",
        "\n",
        "Please click the link on each parameter to understand its influence on the translation\n",
        "\n",
        "\n",
        "\n",
        "\n"
      ],
      "metadata": {
        "id": "BJ6DqoEPbZTV"
      }
    },
    {
      "cell_type": "markdown",
      "source": [
        "## Using [num_beam](https://huggingface.co/blog/how-to-generate#beam-search) parameter"
      ],
      "metadata": {
        "id": "l6zkVwwAePEk"
      }
    },
    {
      "cell_type": "code",
      "source": [
        "input_text = \"Hugging Face is an American company that develops tools for building applications using machine learning. It is most notable for its transformers library built for natural language processing applications and its platform that allows users to share machine learning models and datasets.\""
      ],
      "metadata": {
        "id": "dL-1v8JahjVN"
      },
      "execution_count": 5,
      "outputs": []
    },
    {
      "cell_type": "code",
      "source": [
        "input_language = \"en\" \n",
        "target_language = 'es'\n",
        "\n",
        "def translate(text, target_language):\n",
        "    model_name = f'Helsinki-NLP/opus-mt-{input_language}-{target_language}'\n",
        "    tokenizer = MarianTokenizer.from_pretrained(model_name)\n",
        "    model = MarianMTModel.from_pretrained(model_name)\n",
        "\n",
        "    inputs = tokenizer.encode(text, return_tensors=\"pt\")\n",
        "    outputs = model.generate(inputs, \n",
        "                             num_beams=4, \n",
        "                             max_length=200, \n",
        "                            #  no_repeat_ngram_size=2, ## This avoid bigrams appearing twice\n",
        "                            #  num_return_sequences=3, ## Must be less or equal to num_beams. Select highest scoring beamns   \n",
        "                             early_stopping=True)\n",
        "    \n",
        "    translated_text = tokenizer.decode(outputs[0], skip_special_tokens=True)\n",
        "\n",
        "    return translated_text"
      ],
      "metadata": {
        "id": "OkX1TJFXmODR"
      },
      "execution_count": 6,
      "outputs": []
    },
    {
      "cell_type": "code",
      "source": [
        "translated_text_beam = translate(input_text, target_language)\n",
        "\n",
        "translated_text_beam"
      ],
      "metadata": {
        "colab": {
          "base_uri": "https://localhost:8080/",
          "height": 53
        },
        "id": "qBeDwbiYnOHZ",
        "outputId": "0a737798-1005-42c6-ce48-882b631c925e"
      },
      "execution_count": 7,
      "outputs": [
        {
          "output_type": "execute_result",
          "data": {
            "text/plain": [
              "'Hugging Face es una empresa estadounidense que desarrolla herramientas para la construcción de aplicaciones utilizando el aprendizaje automático. Es más notable por su biblioteca de transformadores construida para aplicaciones de procesamiento de lenguaje natural y su plataforma que permite a los usuarios compartir modelos de aprendizaje automático y conjuntos de datos.'"
            ],
            "application/vnd.google.colaboratory.intrinsic+json": {
              "type": "string"
            }
          },
          "metadata": {},
          "execution_count": 7
        }
      ]
    },
    {
      "cell_type": "code",
      "source": [
        "# Translate translated text back to english\n",
        "input_language = \"es\" \n",
        "target_language = 'en'\n",
        "\n",
        "def translate(text, target_language):\n",
        "    model_name = f'Helsinki-NLP/opus-mt-{input_language}-{target_language}'\n",
        "    tokenizer = MarianTokenizer.from_pretrained(model_name)\n",
        "    model = MarianMTModel.from_pretrained(model_name)\n",
        "\n",
        "    inputs = tokenizer.encode(text, return_tensors=\"pt\")\n",
        "    outputs = model.generate(inputs, \n",
        "                             num_beams=4, \n",
        "                             max_length=200, \n",
        "                            #  no_repeat_ngram_size=2, ## This avoid bigrams appearing twice\n",
        "                            #  num_return_sequences=3, ## Must be less or equal to num_beams. Select highest scoring beamns   \n",
        "                             early_stopping=True)\n",
        "    \n",
        "    translated_text = tokenizer.decode(outputs[0], skip_special_tokens=True)\n",
        "\n",
        "    return translated_text\n"
      ],
      "metadata": {
        "id": "9P6tj9sngnTE"
      },
      "execution_count": 8,
      "outputs": []
    },
    {
      "cell_type": "code",
      "source": [
        "translated_text_beam\n",
        "\n",
        "original_text = translate(translated_text_beam, target_language)\n",
        "\n",
        "original_text"
      ],
      "metadata": {
        "colab": {
          "base_uri": "https://localhost:8080/",
          "height": 53
        },
        "id": "6_SY3je3g1W6",
        "outputId": "c20a6632-868f-4441-f992-761f42d59117"
      },
      "execution_count": 9,
      "outputs": [
        {
          "output_type": "execute_result",
          "data": {
            "text/plain": [
              "'Hugging Face is an American company that develops application building tools using machine learning. It is most notable for its library of transformers built for natural language processing applications and its platform that allows users to share machine learning models and data sets.'"
            ],
            "application/vnd.google.colaboratory.intrinsic+json": {
              "type": "string"
            }
          },
          "metadata": {},
          "execution_count": 9
        }
      ]
    },
    {
      "cell_type": "markdown",
      "source": [
        "## Using [do_sample](https://huggingface.co/blog/how-to-generate#sampling) parameter"
      ],
      "metadata": {
        "id": "b04CSOD1hdia"
      }
    },
    {
      "cell_type": "code",
      "source": [
        "input_text = \"Hugging Face is an American company that develops tools for building applications using machine learning. It is most notable for its transformers library built for natural language processing applications and its platform that allows users to share machine learning models and datasets.\""
      ],
      "metadata": {
        "id": "ZMOdAoymtsHl"
      },
      "execution_count": 10,
      "outputs": []
    },
    {
      "cell_type": "code",
      "source": [
        "input_language = \"en\" \n",
        "target_language = 'es'\n",
        "\n",
        "def translate(text, target_language):\n",
        "    model_name = f'Helsinki-NLP/opus-mt-{input_language}-{target_language}'\n",
        "    tokenizer = MarianTokenizer.from_pretrained(model_name)\n",
        "    model = MarianMTModel.from_pretrained(model_name)\n",
        "\n",
        "    inputs = tokenizer.encode(text, return_tensors=\"pt\")\n",
        "    outputs = model.generate(inputs, \n",
        "                             do_sample=True, \n",
        "                             max_length=200,                            \n",
        "                             top_k=0, # See k_top chapter in this notebook to see an improvement using do_sample\n",
        "                             early_stopping=True)\n",
        "    \n",
        "    translated_text = tokenizer.decode(outputs[0], skip_special_tokens=True)\n",
        "\n",
        "    return translated_text"
      ],
      "metadata": {
        "id": "v38f0DmFhdib"
      },
      "execution_count": 11,
      "outputs": []
    },
    {
      "cell_type": "code",
      "source": [
        "translated_text_do = translate(input_text, target_language)\n",
        "\n",
        "translated_text_do"
      ],
      "metadata": {
        "colab": {
          "base_uri": "https://localhost:8080/",
          "height": 53
        },
        "outputId": "6fef3f8f-eead-44b6-9d95-d6a10ad680b8",
        "id": "zU92VAEzhdic"
      },
      "execution_count": 12,
      "outputs": [
        {
          "output_type": "execute_result",
          "data": {
            "text/plain": [
              "'Hugging Face es una empresa estadounidense que desarrolla herramientas para la construcción de aplicaciones utilizando el aprendizaje automático. Es más notable por su biblioteca de transformadores construida para aplicaciones de procesamiento de lenguaje natural y su plataforma que permite a los usuarios compartir modelos de aprendizaje automático y conjuntos de datos.'"
            ],
            "application/vnd.google.colaboratory.intrinsic+json": {
              "type": "string"
            }
          },
          "metadata": {},
          "execution_count": 12
        }
      ]
    },
    {
      "cell_type": "code",
      "source": [
        "# Translate translated text back to english\n",
        "input_language = \"es\" \n",
        "target_language = 'en'\n",
        "\n",
        "def translate(text, target_language):\n",
        "    model_name = f'Helsinki-NLP/opus-mt-{input_language}-{target_language}'\n",
        "    tokenizer = MarianTokenizer.from_pretrained(model_name)\n",
        "    model = MarianMTModel.from_pretrained(model_name)\n",
        "\n",
        "    inputs = tokenizer.encode(text, return_tensors=\"pt\")\n",
        "    outputs = model.generate(inputs, \n",
        "                             do_sample=True, \n",
        "                             max_length=200,                            \n",
        "                             top_k=0, # See k_top chapter in this notebook to see an improvement using do_sample\n",
        "                             early_stopping=True)\n",
        "    \n",
        "    translated_text = tokenizer.decode(outputs[0], skip_special_tokens=True)\n",
        "\n",
        "    return translated_text\n"
      ],
      "metadata": {
        "id": "laxED-6dhdic"
      },
      "execution_count": 13,
      "outputs": []
    },
    {
      "cell_type": "code",
      "source": [
        "translated_text_do\n",
        "\n",
        "original_text = translate(translated_text_do, target_language)\n",
        "\n",
        "original_text"
      ],
      "metadata": {
        "colab": {
          "base_uri": "https://localhost:8080/",
          "height": 53
        },
        "outputId": "52455349-5766-4b09-b9a7-d8480086f5b7",
        "id": "roISQW4xhdid"
      },
      "execution_count": 14,
      "outputs": [
        {
          "output_type": "execute_result",
          "data": {
            "text/plain": [
              "'Hugging Face is an American company that develops application building tools using machine learning. It is most notable for its transformer library built for natural language processing applications and its platform that allows users to share machine learning models and data sets.'"
            ],
            "application/vnd.google.colaboratory.intrinsic+json": {
              "type": "string"
            }
          },
          "metadata": {},
          "execution_count": 14
        }
      ]
    },
    {
      "cell_type": "markdown",
      "source": [
        "## Using [top_k](https://huggingface.co/blog/how-to-generate#top-k-sampling) parameter"
      ],
      "metadata": {
        "id": "wfQZ79jSmqBi"
      }
    },
    {
      "cell_type": "code",
      "source": [
        "input_text = \"Hugging Face is an American company that develops tools for building applications using machine learning. It is most notable for its transformers library built for natural language processing applications and its platform that allows users to share machine learning models and datasets.\""
      ],
      "metadata": {
        "id": "3st2kvyktwWX"
      },
      "execution_count": 15,
      "outputs": []
    },
    {
      "cell_type": "code",
      "source": [
        "input_language = \"en\" \n",
        "target_language = 'es'\n",
        "\n",
        "def translate(text, target_language):\n",
        "    model_name = f'Helsinki-NLP/opus-mt-{input_language}-{target_language}'\n",
        "    tokenizer = MarianTokenizer.from_pretrained(model_name)\n",
        "    model = MarianMTModel.from_pretrained(model_name)\n",
        "\n",
        "    inputs = tokenizer.encode(text, return_tensors=\"pt\")\n",
        "    outputs = model.generate(inputs, \n",
        "                             do_sample=True, \n",
        "                             max_length=200,                                                       \n",
        "                             top_k=50, # The K most likely next words are filtered and the probability mass is redistributed among only those K next words\n",
        "                             early_stopping=True)\n",
        "    \n",
        "    translated_text = tokenizer.decode(outputs[0], skip_special_tokens=True)\n",
        "\n",
        "    return translated_text"
      ],
      "metadata": {
        "id": "NNqOOgiwmqBj"
      },
      "execution_count": 16,
      "outputs": []
    },
    {
      "cell_type": "code",
      "source": [
        "translated_text_k = translate(input_text, target_language)\n",
        "\n",
        "translated_text_k\n"
      ],
      "metadata": {
        "colab": {
          "base_uri": "https://localhost:8080/",
          "height": 53
        },
        "outputId": "faecd614-8f38-4e58-cae2-eb461d52fa3a",
        "id": "RQnaugJnmqBk"
      },
      "execution_count": 17,
      "outputs": [
        {
          "output_type": "execute_result",
          "data": {
            "text/plain": [
              "'Hugging Face es una empresa estadounidense que desarrolla herramientas para la construcción de aplicaciones utilizando el aprendizaje automático. Es más notable por su biblioteca de transformadores construida para aplicaciones de procesamiento de lenguaje natural y su plataforma que permite a los usuarios compartir modelos de aprendizaje automático y conjuntos de datos.'"
            ],
            "application/vnd.google.colaboratory.intrinsic+json": {
              "type": "string"
            }
          },
          "metadata": {},
          "execution_count": 17
        }
      ]
    },
    {
      "cell_type": "code",
      "source": [
        "# Translate translated text back to english\n",
        "input_language = \"es\" \n",
        "target_language = 'en'\n",
        "\n",
        "def translate(text, target_language):\n",
        "    model_name = f'Helsinki-NLP/opus-mt-{input_language}-{target_language}'\n",
        "    tokenizer = MarianTokenizer.from_pretrained(model_name)\n",
        "    model = MarianMTModel.from_pretrained(model_name)\n",
        "\n",
        "    inputs = tokenizer.encode(text, return_tensors=\"pt\")\n",
        "    outputs = model.generate(inputs, \n",
        "                             do_sample=True, \n",
        "                             max_length=200,                       \n",
        "                             top_k=50, # The K most likely next words are filtered and the probability mass is redistributed among only those K next words\n",
        "                             early_stopping=True)\n",
        "    \n",
        "    translated_text = tokenizer.decode(outputs[0], skip_special_tokens=True)\n",
        "\n",
        "    return translated_text\n"
      ],
      "metadata": {
        "id": "V-vMo5-jmqBm"
      },
      "execution_count": 18,
      "outputs": []
    },
    {
      "cell_type": "code",
      "source": [
        "translated_text_k\n",
        "\n",
        "original_text = translate(translated_text_k, target_language)\n",
        "\n",
        "original_text"
      ],
      "metadata": {
        "colab": {
          "base_uri": "https://localhost:8080/",
          "height": 53
        },
        "outputId": "62dc4af2-3b26-41e0-fa20-399c83af9823",
        "id": "EVR5Ei7JmqBm"
      },
      "execution_count": 19,
      "outputs": [
        {
          "output_type": "execute_result",
          "data": {
            "text/plain": [
              "'Hugging Face is an American company that develops application building tools using machine learning. It is most notable for its library of transformers built for natural language processing applications and its platform that allows users to share machine learning models and data sets.'"
            ],
            "application/vnd.google.colaboratory.intrinsic+json": {
              "type": "string"
            }
          },
          "metadata": {},
          "execution_count": 19
        }
      ]
    },
    {
      "cell_type": "markdown",
      "source": [
        "## Using [top_p](https://huggingface.co/blog/how-to-generate#top-p-nucleus-sampling) parameter"
      ],
      "metadata": {
        "id": "i-sowdtepFTR"
      }
    },
    {
      "cell_type": "code",
      "source": [
        "input_text = \"Hugging Face is an American company that develops tools for building applications using machine learning. It is most notable for its transformers library built for natural language processing applications and its platform that allows users to share machine learning models and datasets.\""
      ],
      "metadata": {
        "id": "LcXlhfWFt58t"
      },
      "execution_count": 20,
      "outputs": []
    },
    {
      "cell_type": "code",
      "source": [
        "input_language = \"en\" \n",
        "target_language = 'es'\n",
        "\n",
        "def translate(text, target_language):\n",
        "    model_name = f'Helsinki-NLP/opus-mt-{input_language}-{target_language}'\n",
        "    tokenizer = MarianTokenizer.from_pretrained(model_name)\n",
        "    model = MarianMTModel.from_pretrained(model_name)\n",
        "\n",
        "    inputs = tokenizer.encode(text, return_tensors=\"pt\")\n",
        "    outputs = model.generate(inputs, \n",
        "                             do_sample=True, \n",
        "                             max_length=200,                            \n",
        "                             top_k=100, # The K most likely next words are filtered and the probability mass is redistributed among only those K next words\n",
        "                             top_p=0.95, \n",
        "                             early_stopping=True)\n",
        "    \n",
        "    translated_text = tokenizer.decode(outputs[0], skip_special_tokens=True)\n",
        "\n",
        "    return translated_text"
      ],
      "metadata": {
        "id": "dKm1OCwipFTR"
      },
      "execution_count": 21,
      "outputs": []
    },
    {
      "cell_type": "code",
      "source": [
        "translated_text_p = translate(input_text, target_language)\n",
        "\n",
        "translated_text_p"
      ],
      "metadata": {
        "colab": {
          "base_uri": "https://localhost:8080/",
          "height": 53
        },
        "outputId": "ddb91eb5-4554-4681-87b8-3ce57aab281a",
        "id": "AcjwZ28dpFTS"
      },
      "execution_count": 22,
      "outputs": [
        {
          "output_type": "execute_result",
          "data": {
            "text/plain": [
              "'Hugging Face es una empresa estadounidense que desarrolla herramientas para la construcción de aplicaciones utilizando el aprendizaje automático. Es más notable por su biblioteca de transformadores construida para aplicaciones de procesamiento de lenguaje natural y su plataforma que permite a los usuarios compartir modelos de aprendizaje automático y conjuntos de datos.'"
            ],
            "application/vnd.google.colaboratory.intrinsic+json": {
              "type": "string"
            }
          },
          "metadata": {},
          "execution_count": 22
        }
      ]
    },
    {
      "cell_type": "code",
      "source": [
        "# Translate translated text back to english\n",
        "input_language = \"es\" \n",
        "target_language = 'en'\n",
        "\n",
        "def translate(text, target_language):\n",
        "    model_name = f'Helsinki-NLP/opus-mt-{input_language}-{target_language}'\n",
        "    tokenizer = MarianTokenizer.from_pretrained(model_name)\n",
        "    model = MarianMTModel.from_pretrained(model_name)\n",
        "\n",
        "    inputs = tokenizer.encode(text, return_tensors=\"pt\")\n",
        "    outputs = model.generate(inputs, \n",
        "                             do_sample=True, \n",
        "                             max_length=200,                            \n",
        "                             top_k=100, # The K most likely next words are filtered and the probability mass is redistributed among only those K next words\n",
        "                             top_p=0.95, \n",
        "                             early_stopping=True)\n",
        "    \n",
        "    translated_text = tokenizer.decode(outputs[0], skip_special_tokens=True)\n",
        "\n",
        "    return translated_text\n"
      ],
      "metadata": {
        "id": "ndaY9sEjpFTT"
      },
      "execution_count": 23,
      "outputs": []
    },
    {
      "cell_type": "code",
      "source": [
        "translated_text_p\n",
        "\n",
        "original_text = translate(translated_text_p, target_language)\n",
        "\n",
        "original_text"
      ],
      "metadata": {
        "colab": {
          "base_uri": "https://localhost:8080/",
          "height": 53
        },
        "outputId": "77c6716a-40cd-4df7-86aa-d11462ec0b75",
        "id": "oiF-eGrzpFTT"
      },
      "execution_count": 24,
      "outputs": [
        {
          "output_type": "execute_result",
          "data": {
            "text/plain": [
              "'Hugging Face is an American company that develops application building tools using machine learning. It is most notable for its library of transformers built for natural language processing applications and its platform that allows users to share machine learning models and data sets.'"
            ],
            "application/vnd.google.colaboratory.intrinsic+json": {
              "type": "string"
            }
          },
          "metadata": {},
          "execution_count": 24
        }
      ]
    },
    {
      "cell_type": "markdown",
      "source": [
        "# Translations Comparison"
      ],
      "metadata": {
        "id": "vs-evlAP1gu7"
      }
    },
    {
      "cell_type": "code",
      "source": [
        "print(f\"Translation using beam: {translated_text_beam}\")\n",
        "print(\"----------------------------------------------\")\n",
        "print(f\"Translation using do_sample: {translated_text_do}\")\n",
        "print(\"----------------------------------------------\")\n",
        "print(f\"Translation using top_k: {translated_text_k}\")\n",
        "print(\"----------------------------------------------\")\n",
        "print(f\"Translation using top_p: {translated_text_p}\")"
      ],
      "metadata": {
        "colab": {
          "base_uri": "https://localhost:8080/"
        },
        "id": "VRhjesSo1jMf",
        "outputId": "6dc2cfa9-32df-40bd-e17d-640f61c906bc"
      },
      "execution_count": 25,
      "outputs": [
        {
          "output_type": "stream",
          "name": "stdout",
          "text": [
            "Translation using beam: Hugging Face es una empresa estadounidense que desarrolla herramientas para la construcción de aplicaciones utilizando el aprendizaje automático. Es más notable por su biblioteca de transformadores construida para aplicaciones de procesamiento de lenguaje natural y su plataforma que permite a los usuarios compartir modelos de aprendizaje automático y conjuntos de datos.\n",
            "----------------------------------------------\n",
            "Translation using do_sample: Hugging Face es una empresa estadounidense que desarrolla herramientas para la construcción de aplicaciones utilizando el aprendizaje automático. Es más notable por su biblioteca de transformadores construida para aplicaciones de procesamiento de lenguaje natural y su plataforma que permite a los usuarios compartir modelos de aprendizaje automático y conjuntos de datos.\n",
            "----------------------------------------------\n",
            "Translation using top_k: Hugging Face es una empresa estadounidense que desarrolla herramientas para la construcción de aplicaciones utilizando el aprendizaje automático. Es más notable por su biblioteca de transformadores construida para aplicaciones de procesamiento de lenguaje natural y su plataforma que permite a los usuarios compartir modelos de aprendizaje automático y conjuntos de datos.\n",
            "----------------------------------------------\n",
            "Translation using top_p: Hugging Face es una empresa estadounidense que desarrolla herramientas para la construcción de aplicaciones utilizando el aprendizaje automático. Es más notable por su biblioteca de transformadores construida para aplicaciones de procesamiento de lenguaje natural y su plataforma que permite a los usuarios compartir modelos de aprendizaje automático y conjuntos de datos.\n"
          ]
        }
      ]
    }
  ]
}