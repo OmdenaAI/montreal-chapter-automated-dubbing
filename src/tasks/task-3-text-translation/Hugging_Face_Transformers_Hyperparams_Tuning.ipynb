{
  "nbformat": 4,
  "nbformat_minor": 0,
  "metadata": {
    "colab": {
      "provenance": [],
      "toc_visible": true,
      "gpuType": "T4"
    },
    "kernelspec": {
      "name": "python3",
      "display_name": "Python 3"
    },
    "language_info": {
      "name": "python"
    },
    "accelerator": "GPU"
  },
  "cells": [
    {
      "cell_type": "markdown",
      "source": [
        "# Mount on Drive"
      ],
      "metadata": {
        "id": "LPcjA8ye5tJL"
      }
    },
    {
      "cell_type": "code",
      "execution_count": 1,
      "metadata": {
        "colab": {
          "base_uri": "https://localhost:8080/"
        },
        "id": "jbzIA90Lzq10",
        "outputId": "01626c7d-3ba0-43db-9421-6777e560067e"
      },
      "outputs": [
        {
          "output_type": "stream",
          "name": "stdout",
          "text": [
            "Drive already mounted at /content/drive; to attempt to forcibly remount, call drive.mount(\"/content/drive\", force_remount=True).\n"
          ]
        }
      ],
      "source": [
        "from google.colab import drive\n",
        "drive.mount('/content/drive')"
      ]
    },
    {
      "cell_type": "markdown",
      "source": [
        "# Install Libraries"
      ],
      "metadata": {
        "id": "KSUIIuyf5xr5"
      }
    },
    {
      "cell_type": "code",
      "execution_count": null,
      "metadata": {
        "id": "53NkQXwalySK"
      },
      "outputs": [],
      "source": [
        "!pip install transformers\n",
        "!pip install sentencepiece\n"
      ]
    },
    {
      "cell_type": "code",
      "source": [
        "!pip install sacremoses"
      ],
      "metadata": {
        "id": "DpKr1MZwsLFE"
      },
      "execution_count": null,
      "outputs": []
    },
    {
      "cell_type": "markdown",
      "source": [
        "# Import Libraries"
      ],
      "metadata": {
        "id": "3iXdf-Sd53Yx"
      }
    },
    {
      "cell_type": "code",
      "source": [
        "from transformers import MarianMTModel, MarianTokenizer"
      ],
      "metadata": {
        "id": "k0RTaq7ZmIoy"
      },
      "execution_count": 4,
      "outputs": []
    },
    {
      "cell_type": "markdown",
      "source": [
        "#Define Translation Function\n",
        "Create a function to translate text from English to a target language and back using a pre-trained model. The following parameters will be selected to compare the results of the translation\n",
        "\n",
        "\n",
        "\n",
        "*   num_beam\n",
        "*   do_sample\n",
        "*   top_k\n",
        "*   top_p\n",
        "\n",
        "\n",
        "\n",
        "\n",
        "Please click the link on each parameter to understand its influence on the translation\n",
        "\n",
        "\n",
        "\n",
        "\n"
      ],
      "metadata": {
        "id": "BJ6DqoEPbZTV"
      }
    },
    {
      "cell_type": "markdown",
      "source": [
        "## Using [num_beam](https://huggingface.co/blog/how-to-generate#beam-search) parameter"
      ],
      "metadata": {
        "id": "l6zkVwwAePEk"
      }
    },
    {
      "cell_type": "code",
      "source": [
        "input_text = \"Hugging Face is an American company that develops tools for building applications using machine learning. It is most notable for its transformers library built for natural language processing applications and its platform that allows users to share machine learning models and datasets.\""
      ],
      "metadata": {
        "id": "dL-1v8JahjVN"
      },
      "execution_count": 5,
      "outputs": []
    },
    {
      "cell_type": "code",
      "source": [
        "input_language = \"en\" \n",
        "target_language = 'es'\n",
        "\n",
        "def translate(text, target_language):\n",
        "    model_name = f'Helsinki-NLP/opus-mt-{input_language}-{target_language}'\n",
        "    tokenizer = MarianTokenizer.from_pretrained(model_name)\n",
        "    model = MarianMTModel.from_pretrained(model_name)\n",
        "\n",
        "    inputs = tokenizer.encode(text, return_tensors=\"pt\")\n",
        "    outputs = model.generate(inputs, \n",
        "                             num_beams=4, \n",
        "                             max_length=200, \n",
        "                            #  no_repeat_ngram_size=2, ## This avoid bigrams appearing twice\n",
        "                            #  num_return_sequences=3, ## Must be less or equal to num_beams. Select highest scoring beamns   \n",
        "                             early_stopping=True)\n",
        "    \n",
        "    translated_text = tokenizer.decode(outputs[0], skip_special_tokens=True)\n",
        "\n",
        "    return translated_text"
      ],
      "metadata": {
        "id": "OkX1TJFXmODR"
      },
      "execution_count": 6,
      "outputs": []
    },
    {
      "cell_type": "code",
      "source": [
        "translated_text_beam = translate(input_text, target_language)\n",
        "\n",
        "translated_text_beam"
      ],
      "metadata": {
        "colab": {
          "base_uri": "https://localhost:8080/",
          "height": 53
        },
        "id": "qBeDwbiYnOHZ",
        "outputId": "4402450a-4dd1-457d-bc69-bdc0ecf71fde"
      },
      "execution_count": 7,
      "outputs": [
        {
          "output_type": "execute_result",
          "data": {
            "text/plain": [
              "'Hugging Face es una empresa estadounidense que desarrolla herramientas para la construcción de aplicaciones utilizando el aprendizaje automático. Es más notable por su biblioteca de transformadores construida para aplicaciones de procesamiento de lenguaje natural y su plataforma que permite a los usuarios compartir modelos de aprendizaje automático y conjuntos de datos.'"
            ],
            "application/vnd.google.colaboratory.intrinsic+json": {
              "type": "string"
            }
          },
          "metadata": {},
          "execution_count": 7
        }
      ]
    },
    {
      "cell_type": "code",
      "source": [
        "# Translate translated text back to english\n",
        "input_language = \"es\" \n",
        "target_language = 'en'\n",
        "\n",
        "def translate(text, target_language):\n",
        "    model_name = f'Helsinki-NLP/opus-mt-{input_language}-{target_language}'\n",
        "    tokenizer = MarianTokenizer.from_pretrained(model_name)\n",
        "    model = MarianMTModel.from_pretrained(model_name)\n",
        "\n",
        "    inputs = tokenizer.encode(text, return_tensors=\"pt\")\n",
        "    outputs = model.generate(inputs, \n",
        "                             num_beams=4, \n",
        "                             max_length=200, \n",
        "                            #  no_repeat_ngram_size=2, ## This avoid bigrams appearing twice\n",
        "                            #  num_return_sequences=3, ## Must be less or equal to num_beams. Select highest scoring beamns   \n",
        "                             early_stopping=True)\n",
        "    \n",
        "    translated_text = tokenizer.decode(outputs[0], skip_special_tokens=True)\n",
        "\n",
        "    return translated_text\n"
      ],
      "metadata": {
        "id": "9P6tj9sngnTE"
      },
      "execution_count": 8,
      "outputs": []
    },
    {
      "cell_type": "code",
      "source": [
        "translated_text_beam\n",
        "\n",
        "original_text = translate(translated_text_beam, target_language)\n",
        "\n",
        "original_text"
      ],
      "metadata": {
        "colab": {
          "base_uri": "https://localhost:8080/",
          "height": 53
        },
        "id": "6_SY3je3g1W6",
        "outputId": "2259b348-3909-4869-b507-16d6b67566d7"
      },
      "execution_count": 9,
      "outputs": [
        {
          "output_type": "execute_result",
          "data": {
            "text/plain": [
              "'Hugging Face is an American company that develops application building tools using machine learning. It is most notable for its library of transformers built for natural language processing applications and its platform that allows users to share machine learning models and data sets.'"
            ],
            "application/vnd.google.colaboratory.intrinsic+json": {
              "type": "string"
            }
          },
          "metadata": {},
          "execution_count": 9
        }
      ]
    },
    {
      "cell_type": "markdown",
      "source": [
        "## Using [do_sample](https://huggingface.co/blog/how-to-generate#sampling) parameter"
      ],
      "metadata": {
        "id": "b04CSOD1hdia"
      }
    },
    {
      "cell_type": "code",
      "source": [
        "input_text = \"Hugging Face is an American company that develops tools for building applications using machine learning. It is most notable for its transformers library built for natural language processing applications and its platform that allows users to share machine learning models and datasets.\""
      ],
      "metadata": {
        "id": "ZMOdAoymtsHl"
      },
      "execution_count": 10,
      "outputs": []
    },
    {
      "cell_type": "code",
      "source": [
        "input_language = \"en\" \n",
        "target_language = 'es'\n",
        "\n",
        "def translate(text, target_language):\n",
        "    model_name = f'Helsinki-NLP/opus-mt-{input_language}-{target_language}'\n",
        "    tokenizer = MarianTokenizer.from_pretrained(model_name)\n",
        "    model = MarianMTModel.from_pretrained(model_name)\n",
        "\n",
        "    inputs = tokenizer.encode(text, return_tensors=\"pt\")\n",
        "    outputs = model.generate(inputs, \n",
        "                             do_sample=True, \n",
        "                             max_length=200,                            \n",
        "                             top_k=0, # See k_top chapter in this notebook to see an improvement using do_sample\n",
        "                             early_stopping=True)\n",
        "    \n",
        "    translated_text = tokenizer.decode(outputs[0], skip_special_tokens=True)\n",
        "\n",
        "    return translated_text"
      ],
      "metadata": {
        "id": "v38f0DmFhdib"
      },
      "execution_count": 11,
      "outputs": []
    },
    {
      "cell_type": "code",
      "source": [
        "translated_text_do = translate(input_text, target_language)\n",
        "\n",
        "translated_text_do"
      ],
      "metadata": {
        "colab": {
          "base_uri": "https://localhost:8080/",
          "height": 53
        },
        "outputId": "13b447a0-ab87-4e3c-f310-353fb2f1eeb5",
        "id": "zU92VAEzhdic"
      },
      "execution_count": 12,
      "outputs": [
        {
          "output_type": "execute_result",
          "data": {
            "text/plain": [
              "'Hugging Face es una empresa estadounidense que desarrolla herramientas para la construcción de aplicaciones utilizando el aprendizaje automático. Es muy notable por su biblioteca de transformadores construida para aplicaciones de procesamiento de lenguaje natural y su plataforma que permite a los usuarios compartir modelos de aprendizaje automático y conjuntos de datos.'"
            ],
            "application/vnd.google.colaboratory.intrinsic+json": {
              "type": "string"
            }
          },
          "metadata": {},
          "execution_count": 12
        }
      ]
    },
    {
      "cell_type": "code",
      "source": [
        "# Translate translated text back to english\n",
        "input_language = \"es\" \n",
        "target_language = 'en'\n",
        "\n",
        "def translate(text, target_language):\n",
        "    model_name = f'Helsinki-NLP/opus-mt-{input_language}-{target_language}'\n",
        "    tokenizer = MarianTokenizer.from_pretrained(model_name)\n",
        "    model = MarianMTModel.from_pretrained(model_name)\n",
        "\n",
        "    inputs = tokenizer.encode(text, return_tensors=\"pt\")\n",
        "    outputs = model.generate(inputs, \n",
        "                             do_sample=True, \n",
        "                             max_length=200,                            \n",
        "                             top_k=0, # See k_top chapter in this notebook to see an improvement using do_sample\n",
        "                             early_stopping=True)\n",
        "    \n",
        "    translated_text = tokenizer.decode(outputs[0], skip_special_tokens=True)\n",
        "\n",
        "    return translated_text\n"
      ],
      "metadata": {
        "id": "laxED-6dhdic"
      },
      "execution_count": 13,
      "outputs": []
    },
    {
      "cell_type": "code",
      "source": [
        "translated_text_do\n",
        "\n",
        "original_text = translate(translated_text_do, target_language)\n",
        "\n",
        "original_text"
      ],
      "metadata": {
        "colab": {
          "base_uri": "https://localhost:8080/",
          "height": 53
        },
        "outputId": "7ea35547-0850-4139-83a3-15823084ca2a",
        "id": "roISQW4xhdid"
      },
      "execution_count": 14,
      "outputs": [
        {
          "output_type": "execute_result",
          "data": {
            "text/plain": [
              "'Hugging Face is an American company that develops application building tools using machine learning. It is very notable for its library of transformers built for natural language processing applications and its platform that allows users to share machine learning models and data sets.'"
            ],
            "application/vnd.google.colaboratory.intrinsic+json": {
              "type": "string"
            }
          },
          "metadata": {},
          "execution_count": 14
        }
      ]
    },
    {
      "cell_type": "markdown",
      "source": [
        "## Using [top_k](https://huggingface.co/blog/how-to-generate#top-k-sampling) parameter"
      ],
      "metadata": {
        "id": "wfQZ79jSmqBi"
      }
    },
    {
      "cell_type": "code",
      "source": [
        "input_text = \"Hugging Face is an American company that develops tools for building applications using machine learning. It is most notable for its transformers library built for natural language processing applications and its platform that allows users to share machine learning models and datasets.\""
      ],
      "metadata": {
        "id": "3st2kvyktwWX"
      },
      "execution_count": 15,
      "outputs": []
    },
    {
      "cell_type": "code",
      "source": [
        "input_language = \"en\" \n",
        "target_language = 'es'\n",
        "\n",
        "def translate(text, target_language):\n",
        "    model_name = f'Helsinki-NLP/opus-mt-{input_language}-{target_language}'\n",
        "    tokenizer = MarianTokenizer.from_pretrained(model_name)\n",
        "    model = MarianMTModel.from_pretrained(model_name)\n",
        "\n",
        "    inputs = tokenizer.encode(text, return_tensors=\"pt\")\n",
        "    outputs = model.generate(inputs, \n",
        "                             do_sample=True, \n",
        "                             max_length=200,                                                       \n",
        "                             top_k=50, # The K most likely next words are filtered and the probability mass is redistributed among only those K next words\n",
        "                             early_stopping=True)\n",
        "    \n",
        "    translated_text = tokenizer.decode(outputs[0], skip_special_tokens=True)\n",
        "\n",
        "    return translated_text"
      ],
      "metadata": {
        "id": "NNqOOgiwmqBj"
      },
      "execution_count": 16,
      "outputs": []
    },
    {
      "cell_type": "code",
      "source": [
        "translated_text_k = translate(input_text, target_language)\n",
        "\n",
        "translated_text_k\n"
      ],
      "metadata": {
        "colab": {
          "base_uri": "https://localhost:8080/",
          "height": 53
        },
        "outputId": "2c1fc395-8d56-4edc-f2c3-1ca46a19c41e",
        "id": "RQnaugJnmqBk"
      },
      "execution_count": 17,
      "outputs": [
        {
          "output_type": "execute_result",
          "data": {
            "text/plain": [
              "'Hugging Face es una empresa estadounidense que desarrolla herramientas para la construcción de aplicaciones utilizando el aprendizaje automático. Es muy notable por su biblioteca de transformadores construida para aplicaciones de procesamiento de lenguaje natural y su plataforma que permite a los usuarios compartir modelos de aprendizaje automático y conjuntos de datos.'"
            ],
            "application/vnd.google.colaboratory.intrinsic+json": {
              "type": "string"
            }
          },
          "metadata": {},
          "execution_count": 17
        }
      ]
    },
    {
      "cell_type": "code",
      "source": [
        "# Translate translated text back to english\n",
        "input_language = \"es\" \n",
        "target_language = 'en'\n",
        "\n",
        "def translate(text, target_language):\n",
        "    model_name = f'Helsinki-NLP/opus-mt-{input_language}-{target_language}'\n",
        "    tokenizer = MarianTokenizer.from_pretrained(model_name)\n",
        "    model = MarianMTModel.from_pretrained(model_name)\n",
        "\n",
        "    inputs = tokenizer.encode(text, return_tensors=\"pt\")\n",
        "    outputs = model.generate(inputs, \n",
        "                             do_sample=True, \n",
        "                             max_length=200,                       \n",
        "                             top_k=50, # The K most likely next words are filtered and the probability mass is redistributed among only those K next words\n",
        "                             early_stopping=True)\n",
        "    \n",
        "    translated_text = tokenizer.decode(outputs[0], skip_special_tokens=True)\n",
        "\n",
        "    return translated_text\n"
      ],
      "metadata": {
        "id": "V-vMo5-jmqBm"
      },
      "execution_count": 18,
      "outputs": []
    },
    {
      "cell_type": "code",
      "source": [
        "translated_text_k\n",
        "\n",
        "original_text = translate(translated_text_k, target_language)\n",
        "\n",
        "original_text"
      ],
      "metadata": {
        "colab": {
          "base_uri": "https://localhost:8080/",
          "height": 53
        },
        "outputId": "0c9ac31b-9db8-465e-84c0-c647d9c4d443",
        "id": "EVR5Ei7JmqBm"
      },
      "execution_count": 19,
      "outputs": [
        {
          "output_type": "execute_result",
          "data": {
            "text/plain": [
              "'Hugging Face is an American company that develops application building tools using machine learning. It is highly notable for its library of transformers built for natural language processing applications and its platform that allows users to share machine learning models and data sets.'"
            ],
            "application/vnd.google.colaboratory.intrinsic+json": {
              "type": "string"
            }
          },
          "metadata": {},
          "execution_count": 19
        }
      ]
    },
    {
      "cell_type": "markdown",
      "source": [
        "## Using [top_p](https://huggingface.co/blog/how-to-generate#top-p-nucleus-sampling) parameter"
      ],
      "metadata": {
        "id": "i-sowdtepFTR"
      }
    },
    {
      "cell_type": "code",
      "source": [
        "input_text = \"Hugging Face is an American company that develops tools for building applications using machine learning. It is most notable for its transformers library built for natural language processing applications and its platform that allows users to share machine learning models and datasets.\""
      ],
      "metadata": {
        "id": "LcXlhfWFt58t"
      },
      "execution_count": 20,
      "outputs": []
    },
    {
      "cell_type": "code",
      "source": [
        "input_language = \"en\" \n",
        "target_language = 'es'\n",
        "\n",
        "def translate(text, target_language):\n",
        "    model_name = f'Helsinki-NLP/opus-mt-{input_language}-{target_language}'\n",
        "    tokenizer = MarianTokenizer.from_pretrained(model_name)\n",
        "    model = MarianMTModel.from_pretrained(model_name)\n",
        "\n",
        "    inputs = tokenizer.encode(text, return_tensors=\"pt\")\n",
        "    outputs = model.generate(inputs, \n",
        "                             do_sample=True, \n",
        "                             max_length=200,                            \n",
        "                             top_k=0, # The K most likely next words are filtered and the probability mass is redistributed among only those K next words\n",
        "                             top_p=0.95, \n",
        "                             early_stopping=True)\n",
        "    \n",
        "    translated_text = tokenizer.decode(outputs[0], skip_special_tokens=True)\n",
        "\n",
        "    return translated_text"
      ],
      "metadata": {
        "id": "dKm1OCwipFTR"
      },
      "execution_count": 21,
      "outputs": []
    },
    {
      "cell_type": "code",
      "source": [
        "translated_text_p = translate(input_text, target_language)\n",
        "\n",
        "translated_text_p"
      ],
      "metadata": {
        "colab": {
          "base_uri": "https://localhost:8080/",
          "height": 53
        },
        "outputId": "25384224-eaa9-436e-c7b3-93d9a21747f2",
        "id": "AcjwZ28dpFTS"
      },
      "execution_count": 22,
      "outputs": [
        {
          "output_type": "execute_result",
          "data": {
            "text/plain": [
              "'Hugging Face es una empresa estadounidense que desarrolla herramientas para la construcción de aplicaciones mediante el aprendizaje automático. Destaca por su biblioteca de transformadores construida para aplicaciones de procesamiento de lenguaje natural y su plataforma que permite a los usuarios compartir modelos de aprendizaje automático y conjuntos de datos.'"
            ],
            "application/vnd.google.colaboratory.intrinsic+json": {
              "type": "string"
            }
          },
          "metadata": {},
          "execution_count": 22
        }
      ]
    },
    {
      "cell_type": "code",
      "source": [
        "# Translate translated text back to english\n",
        "input_language = \"es\" \n",
        "target_language = 'en'\n",
        "\n",
        "def translate(text, target_language):\n",
        "    model_name = f'Helsinki-NLP/opus-mt-{input_language}-{target_language}'\n",
        "    tokenizer = MarianTokenizer.from_pretrained(model_name)\n",
        "    model = MarianMTModel.from_pretrained(model_name)\n",
        "\n",
        "    inputs = tokenizer.encode(text, return_tensors=\"pt\")\n",
        "    outputs = model.generate(inputs, \n",
        "                             do_sample=True, \n",
        "                             max_length=200,                            \n",
        "                             top_k=0, # The K most likely next words are filtered and the probability mass is redistributed among only those K next words\n",
        "                             top_p=0.95, \n",
        "                             early_stopping=True)\n",
        "    \n",
        "    translated_text = tokenizer.decode(outputs[0], skip_special_tokens=True)\n",
        "\n",
        "    return translated_text\n"
      ],
      "metadata": {
        "id": "ndaY9sEjpFTT"
      },
      "execution_count": 23,
      "outputs": []
    },
    {
      "cell_type": "code",
      "source": [
        "translated_text_p\n",
        "\n",
        "original_text = translate(translated_text_p, target_language)\n",
        "\n",
        "original_text"
      ],
      "metadata": {
        "colab": {
          "base_uri": "https://localhost:8080/",
          "height": 53
        },
        "outputId": "2ce6ddb9-10db-4699-934d-5bcee2cdafcd",
        "id": "oiF-eGrzpFTT"
      },
      "execution_count": 24,
      "outputs": [
        {
          "output_type": "execute_result",
          "data": {
            "text/plain": [
              "'Hugging Face is an American company that develops tools for machine learning applications. It stands out for its library of transformers built for natural language processing applications and its platform that allows users to share machine learning models and data sets.'"
            ],
            "application/vnd.google.colaboratory.intrinsic+json": {
              "type": "string"
            }
          },
          "metadata": {},
          "execution_count": 24
        }
      ]
    },
    {
      "cell_type": "markdown",
      "source": [
        "# Translations Comparison"
      ],
      "metadata": {
        "id": "vs-evlAP1gu7"
      }
    },
    {
      "cell_type": "code",
      "source": [
        "print(f\"Translation using beam: {translated_text_beam}\")\n",
        "print(\"----------------------------------------------\")\n",
        "print(f\"Translation using beam: {translated_text_do}\")\n",
        "print(\"----------------------------------------------\")\n",
        "print(f\"Translation using beam: {translated_text_k}\")\n",
        "print(\"----------------------------------------------\")\n",
        "print(f\"Translation using beam: {translated_text_p}\")"
      ],
      "metadata": {
        "colab": {
          "base_uri": "https://localhost:8080/"
        },
        "id": "VRhjesSo1jMf",
        "outputId": "6ba35438-26d3-4fcb-94fb-074e80e3ec79"
      },
      "execution_count": 26,
      "outputs": [
        {
          "output_type": "stream",
          "name": "stdout",
          "text": [
            "Translation using beam: Hugging Face es una empresa estadounidense que desarrolla herramientas para la construcción de aplicaciones utilizando el aprendizaje automático. Es más notable por su biblioteca de transformadores construida para aplicaciones de procesamiento de lenguaje natural y su plataforma que permite a los usuarios compartir modelos de aprendizaje automático y conjuntos de datos.\n",
            "----------------------------------------------\n",
            "Translation using beam: Hugging Face es una empresa estadounidense que desarrolla herramientas para la construcción de aplicaciones utilizando el aprendizaje automático. Es muy notable por su biblioteca de transformadores construida para aplicaciones de procesamiento de lenguaje natural y su plataforma que permite a los usuarios compartir modelos de aprendizaje automático y conjuntos de datos.\n",
            "----------------------------------------------\n",
            "Translation using beam: Hugging Face es una empresa estadounidense que desarrolla herramientas para la construcción de aplicaciones utilizando el aprendizaje automático. Es muy notable por su biblioteca de transformadores construida para aplicaciones de procesamiento de lenguaje natural y su plataforma que permite a los usuarios compartir modelos de aprendizaje automático y conjuntos de datos.\n",
            "----------------------------------------------\n",
            "Translation using beam: Hugging Face es una empresa estadounidense que desarrolla herramientas para la construcción de aplicaciones mediante el aprendizaje automático. Destaca por su biblioteca de transformadores construida para aplicaciones de procesamiento de lenguaje natural y su plataforma que permite a los usuarios compartir modelos de aprendizaje automático y conjuntos de datos.\n"
          ]
        }
      ]
    }
  ]
}