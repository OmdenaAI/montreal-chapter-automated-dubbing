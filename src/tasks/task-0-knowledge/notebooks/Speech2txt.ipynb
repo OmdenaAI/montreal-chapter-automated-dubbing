{
  "nbformat": 4,
  "nbformat_minor": 0,
  "metadata": {
    "colab": {
      "provenance": [],
      "gpuType": "T4"
    },
    "kernelspec": {
      "name": "python3",
      "display_name": "Python 3"
    },
    "language_info": {
      "name": "python"
    },
    "accelerator": "GPU",
    "gpuClass": "standard"
  },
  "cells": [
    {
      "cell_type": "code",
      "execution_count": 1,
      "metadata": {
        "colab": {
          "base_uri": "https://localhost:8080/"
        },
        "id": "HNVwtZNiwHtc",
        "outputId": "17c3940a-d137-4132-d143-e177a5b436de"
      },
      "outputs": [
        {
          "output_type": "stream",
          "name": "stdout",
          "text": [
            "Drive already mounted at /content/drive; to attempt to forcibly remount, call drive.mount(\"/content/drive\", force_remount=True).\n"
          ]
        }
      ],
      "source": [
        "from google.colab import drive\n",
        "drive.mount('/content/drive')"
      ]
    },
    {
      "cell_type": "code",
      "source": [
        "!pip install git+https://github.com/openai/whisper.git\n",
        "\n",
        "!sudo apt update && sudo apt install ffmpeg"
      ],
      "metadata": {
        "id": "FR_ElHcq6HSe"
      },
      "execution_count": null,
      "outputs": []
    },
    {
      "cell_type": "code",
      "source": [
        "import whisper"
      ],
      "metadata": {
        "id": "o8r3-eKk3A79"
      },
      "execution_count": 4,
      "outputs": []
    },
    {
      "cell_type": "code",
      "source": [
        "from moviepy.editor import *"
      ],
      "metadata": {
        "id": "fWVkA_6z-BRT"
      },
      "execution_count": 6,
      "outputs": []
    },
    {
      "cell_type": "code",
      "source": [
        "import numpy as np\n",
        "import torch"
      ],
      "metadata": {
        "id": "S1aww8aI4R3l"
      },
      "execution_count": 7,
      "outputs": []
    },
    {
      "cell_type": "code",
      "source": [
        "#extract audio from video\n",
        "video = VideoFileClip('/content/drive/MyDrive/Omdena_Montreal/video_en_short.mp4')\n",
        "video.audio.write_audiofile('/content/drive/MyDrive/Omdena_Montreal/audio_en_short.mp3')"
      ],
      "metadata": {
        "colab": {
          "base_uri": "https://localhost:8080/"
        },
        "id": "IMmUO_15B6Pr",
        "outputId": "dad0f391-a067-4162-eea6-3714ab8b9f03"
      },
      "execution_count": 30,
      "outputs": [
        {
          "output_type": "stream",
          "name": "stdout",
          "text": [
            "MoviePy - Writing audio in /content/drive/MyDrive/Omdena_Montreal/audio_en_short.mp3\n"
          ]
        },
        {
          "output_type": "stream",
          "name": "stderr",
          "text": [
            "                                                                       "
          ]
        },
        {
          "output_type": "stream",
          "name": "stdout",
          "text": [
            "MoviePy - Done.\n"
          ]
        },
        {
          "output_type": "stream",
          "name": "stderr",
          "text": [
            "\r"
          ]
        }
      ]
    },
    {
      "cell_type": "code",
      "source": [
        "torch.cuda.is_available()\n",
        "DEVICE = \"cuda\" if torch.cuda.is_available() else \"cpu\""
      ],
      "metadata": {
        "id": "d1jLXm6y6O0p"
      },
      "execution_count": 8,
      "outputs": []
    },
    {
      "cell_type": "code",
      "source": [
        "model = whisper.load_model(\"base\", device=DEVICE)\n",
        "print(\n",
        "    f\"Model is {'multilingual' if model.is_multilingual else 'English-only'} \"\n",
        "    f\"and has {sum(np.prod(p.shape) for p in model.parameters()):,} parameters.\"\n",
        ")"
      ],
      "metadata": {
        "colab": {
          "base_uri": "https://localhost:8080/"
        },
        "id": "JlfYD-RQDn4t",
        "outputId": "59628298-471e-43a2-8a55-b326b11e7192"
      },
      "execution_count": 9,
      "outputs": [
        {
          "output_type": "stream",
          "name": "stderr",
          "text": [
            "100%|████████████████████████████████████████| 139M/139M [00:00<00:00, 177MiB/s]\n"
          ]
        },
        {
          "output_type": "stream",
          "name": "stdout",
          "text": [
            "Model is multilingual and has 71,825,920 parameters.\n"
          ]
        }
      ]
    },
    {
      "cell_type": "code",
      "source": [
        "audio = whisper.load_audio(\"/content/drive/MyDrive/Omdena_Montreal/audio_en_short.mp3\")\n",
        "audio = whisper.pad_or_trim(audio)\n",
        "mel = whisper.log_mel_spectrogram(audio).to(model.device)"
      ],
      "metadata": {
        "id": "6pa1GWKU75Lw"
      },
      "execution_count": 10,
      "outputs": []
    },
    {
      "cell_type": "code",
      "source": [
        "_, probs = model.detect_language(mel)\n",
        "print(f\"Detected language: {max(probs, key=probs.get)}\")"
      ],
      "metadata": {
        "colab": {
          "base_uri": "https://localhost:8080/"
        },
        "id": "zAiX5UTx8aKt",
        "outputId": "9c720c67-bfd5-4c90-e9ca-a4ac6e0fb17c"
      },
      "execution_count": 11,
      "outputs": [
        {
          "output_type": "stream",
          "name": "stdout",
          "text": [
            "Detected language: en\n"
          ]
        }
      ]
    },
    {
      "cell_type": "code",
      "source": [
        "options = whisper.DecodingOptions(language=\"en\", without_timestamps=True)\n",
        "result = whisper.decode(model, mel, options)\n",
        "print(result.text)"
      ],
      "metadata": {
        "colab": {
          "base_uri": "https://localhost:8080/"
        },
        "id": "CScfQQfD8hu-",
        "outputId": "84c70ef7-1a30-43a4-8c70-dbd77f63321b"
      },
      "execution_count": 12,
      "outputs": [
        {
          "output_type": "stream",
          "name": "stdout",
          "text": [
            "Hi, I'm Stavon Silva, Product Manager for AR, and I'm joined by Val O'Donnell, Engineer in AR, and James Zachary, Director of Animation on Adobe Arrow. Today we have exciting news and tools to share that will make augmented reality and geospatial experiences easier and more fun to create. We believe that the profound shift triggered by augmented reality is that all places can be enhanced with immersive content and\n"
          ]
        }
      ]
    },
    {
      "cell_type": "code",
      "source": [
        "result = model.transcribe(\"/content/drive/MyDrive/Omdena_Montreal/audio_en_short.mp3\")\n",
        "print(result[\"text\"])"
      ],
      "metadata": {
        "colab": {
          "base_uri": "https://localhost:8080/"
        },
        "id": "M-SwPcKB8oUC",
        "outputId": "cbf49f77-e07c-4db7-fd7c-b6aa117f865d"
      },
      "execution_count": 13,
      "outputs": [
        {
          "output_type": "stream",
          "name": "stdout",
          "text": [
            " Hi, I'm Stavon Silva, Product Manager for AR, and I'm joined by Val O'Donnell, Engineer in AR and James Zachary, Director of Animation on Adobe Arrow. Today we have exciting news and tools to share that will make augmented reality and geospatial experiences easier and more fun to create. We believe that the profound shift triggered by augmented reality is that all places can be enhanced with immersive content and experiences. When the physical world is augmented with digital content, it redefines the way people learn, create, shop, get information, and play. Last year we launched the AR Core Geospatial API to help developers create world-anchored experiences in 87 countries. We opened up more than 15 years of our understanding of the world through Google Maps to help developers build augmented reality experiences that are more immersive, richer, and more useful. The Geospatial API provides access to global localization based on the Visual Positioning Service or VPS, the same technology that has been powering live view in Google Maps since 2019, providing people with helpful AR-powered arrows and turned-by-turn directions. This technology allows you to quickly visualize in a matter of seconds, augmented reality experiences without the need to tap or find a surface to place content on. And thanks to Google's decade plus of ground-level imagery, we've already mapped the world in immaculate detail. So with the AR Core Geospatial API, you are able to remotely attach content to the world and guide users to it, allowing you to create immersive location-based AR experiences almost everywhere we have street view. Since the launch of the Geospatial API, we have continued to launch new features to improve localization, performance, and anchoring. For example, we launched terrain anchors earlier last year that allows you to place content accurately on the terrain with a simple latitude and longitude. We have also expanded Geospatial API coverage to over 100 countries so you can build and experience AR content in more locations. Finally, we have engaged with all of you through global hackathons, such as the AR Core Geospatial API Challenge. Thank you for the high-quality submissions across a number of use cases, including gaming, local discovery, and navigation. We heard you ask for the ability to augment the world through a real 3D photo-realistic canvas similar to Google Earth in the tools you already love and use. Today, we are excited to announce we are launching the Geospatial Creator, powered by AR Core and Google Maps platform to do just that. With Geospatial Creator, developers and creators can easily visualize the world they want to augment and enhance it with immersive content that can be experienced in the real world. With that background in mind, let's get right into it. We'll start off by discussing the different building blocks that make Geospatial Creator capabilities possible. Then we'll introduce you to how the capabilities are being integrated into Creator and developer platforms that you know and love. We will also walk you through the look and feel of what that creation and development process looks like. And finally, we'll share what our early partners are already doing with the Geospatial Creator to address a wide range of verticals and use cases. Geospatial Creator is powered by two key platforms, AR Core and Google Maps platform. First, AR Core gives developers the tools to seamlessly blend the digital and physical worlds. The Geospatial Creator powered by AR Core includes client-side Geospatial API and new capabilities such as rooftop anchors and scene semantics. All these Geospatial tools help you build world-anchored cross-platform experiences on both Android and iOS. Everything you create in Geospatial Creator can be experienced in the physical world through real-time localization and real-world augmentation. Next, you need access to Google's digital twin of the world. With Geospatial Creators, developers and creators can now build on top of the experimental release of our Photo Realistic 3D tiles via the Map Tiles API. Google Earth has pioneered 3D Photo Realistic Experiences for the past 20 years, but its components have had limited availability to developers. Starting today, the Map Tiles API lets developers access the same Photo Realistic 3D map used by Google Earth so they can build customized, immersive 3D visualization experiences for their web, mobile, desktop, and automotive applications. For more information about the new AR-Core Geospatial APIs, feel free to check out our session called What's New in AR, and to learn more about the Map Tiles API, feel free to check out our session called Creating Immersive 3D Map Experiences. To bring these capabilities to you, we wanted to work with existing tools that creators and developers know and love. We are excited to announce our Geospatial Creator integrations with Adobe and Unity to make this possible. As of today, Geospatial Creator is integrated in the Adobe Aero Geospatial Pre-Release and in the AR-Core extensions and Geospatial Creator for Unity. So both creators and developers can seamlessly integrate and build immersive apps and experiences on their preferred platforms regardless of their technical coding ability. These integrations offer full end-to-end workflows where you can imagine, create, and deploy world-scale AR experiences wherever you are. Now we will walk you through each of these tools. First, we will cover our creator tool partner, Adobe Aero. To do this, I'll hand it over to James Zachary, Director of Animation on Adobe Aero, to talk about how you can start creating Geospatial Experiences today in Adobe Aero. That will then follow him to cover Unity and real-world use cases and partnerships. Thanks, Devon, and hello, everybody. Today I'm excited to show you how to create interactive 3D stories in augmented reality that are anchored to actual world-world locations, like a park, museum entrance, or your neighborhood fashion boutique. With Adobe Aero's new Geospatial Pre-Release, you can create these immersive 3D stories within minutes, and without needing to code, allowing us as creators to focus on the experience we want to craft for our audience. In this example today, we're going to show you how a fictional local coffee shop can showcase their weekly pastries and create some buzz around their delicious donuts in a fun and unique way, without the expense of creating physical signage or having to hire an external creative or technical agency just to build the experience. With Aero, creators can easily create and then share their experiences using a link or QR code. The audience think can then view the experience without needing to install an app on any sported device. So let's dive in and understand how all this is possible. With Geospatial creator in Adobe Aero Geospatial Pre-Release, you can visualize the real world in Aero using Google Maps Platforms 3D tiles. Simply type in the address into the search field, get the 3D geometry, and navigate around to the perfect location for your experience. You can then bring in the assets just by dragging them into the scene and placing them wherever you want. Imagine your business or retail location is the anchor point for this experience. Aero allows you to tell your digital story right there for your audience at your location. Now unlike traditional passive digital media, which may not capture your audience's full attention, Aero allows you to add interactivity to our scenes and make them come alive through triggers and actions. You can also add a call to action to open up any URL from within the experience, such as a landing page or a link to your latest offer. Now nobody likes to download and install an app to view and experience. We all know that. And with Adobe Aero, your audience does not have to. In Aero, you can quickly share your experience with anyone that has a sport of device, sharing its customizable, it's simple, and it's immediate. All your audience needs to do to see your experience is to scan your QR code or click on your link while they're at the location specified by you and the experience will quickly localize and appear before them. We could see how powerful a story medium this is for enabling businesses and creators to engage with their audience. And that is how simple it is to build and share interactive 3D creations using geospatial creator in Adobe Aero's us spatial pre-release. We believe AR experiences should be intuitive and straightforward to create, completely customizable and deeply immersive, and they should be viewable by your audience without needing to install an app. And with that, I'll pass over to you Val. Thanks James. We are so excited to extend these capabilities to broader audiences and can't wait to see what you create with Adobe Aero using geospatial creator. For developers, we're excited to bring geospatial creator capabilities to our Unity SDK with the AR core extensions and the geospatial creator for Unity. We know you love Unity's powerful platform to add delightful behaviors to AR objects and create awesome AR experiences, which geospatial creator and Unity be able to create world-scale experiences that were not possible before. Our goal is to bring a world-tier editor in a way that allows you to make your creations possible. This is done by selecting location, getting the 3D geometry, and flying through the space as you would on Google Earth, all powered by Google Maps platform map tiles API. You can be inspired with this surrounding scene and navigate space as you create and experiment. Once you decide what you want to augment, you can anchor content into the scene, and all the geospatial coordinates you need get included. No additional steps are needed for identifying latitude, longitude, elevation, rotation and co-tournion of this selected location anymore. The real world becomes your canvas to play and augment. We do all the hard work for you. Now you want to bring your creations to life in the real world. By heading outside with an Android or iOS mobile app, users can quickly localize and experience your creations powered by the AR core geospatial API. A geospatial creator has never been easier to build robust, accurate, and rich immersive world-engrored experiences. The world is your canvas. You can't wait to see what magic you'll create. Join us for a tutorial in our two workshop sessions. So now that you have the tools to create world-engrored content, what should you do? Well, we have been so impressed with what our partners across a number of different verticals have done. Today, we'll focus on four sets of applications and use cases. Our first vertical is local discovery. Thanks to the geospatial creator, developers and creators can focus on creating immersive experiences across entire cities in the world to help users learn about the tourist destination, local artist, or shopping promotion. For example, the Singapore Tourism Board used Unity and StreetScape Geometry to create an immersive guided tour in their Visit Singapore app. Merle, the 3D mascot, guides visitors to tourist hotspots using augmented reality to bring landmarks, shops, and historical monuments to life. So tourists can experience the city in a new delightful way. We're partnering with Gap and Mattel to transform the Times Square Gap Store into an iconic Gap and Barbie experience with augmented reality. Created with the geospatial creator and Adobe Arrow geospatial pre-release, fans can easily experience this exciting collaboration through an appless visual sneak peak into the new Gap and Barbie product line coming later this month. We collaborated with Google Arts and Culture and Global Street Art to curate street artists across London, Mexico City, and Los Angeles to bring art to life and take over whole buildings. The artists used geospatial creator and Adobe Arrow to create the experience and thanks to the easy deployment, people can simply scan a QR code to unlock the interactive virtual art pieces no app download required. Next is immersive entertainment. The future of gaming, live sports, and entertainment is here. Starting with gaming, we're excited to announce Google is partnering with Tito to launch space invaders world defense 45 years after the original release. The game is inspired by the original gameplay, but played in AR and 3D. Players will have to destroy space invaders coming at them from portals opening in the sky and buildings. Next, experience the future of sports, starting with live golf tournaments in partnership with Kintar, the official mobile AR developer of the PGA tour. You can see which whole your favorite players are at and get shown navigational directions on how to get there. You can also view ball tracking and player stats as you walk around the course. Next up are helpful use cases across mobility that make it easier for people to navigate and get around. There are a number of use cases that require pinpoint accuracy, such as needing help with parking of scooters, bikes, or locating them. Last year, burden line improved parking accuracy via geospatial API to provide clearer guidance for the riders and a cleaner road inside walk experience in cities. Your result, greater peace of mind, and more properly park scooters in city streets, leading to better relationships with communities that are partners serve. Since then, both bird and line have oriented to scale solution over the past year. Last but not least, a social impact. Have you ever wondered what urban changes would actually look like in your city or neighborhood before being built? Or who were the pioneers who changed your city and its culture? Now you can see and feel those changes in the real world. Starting with Gensler, you can now visualize what the new city projects might look like for the displaced. With Adobe Arrow, they're able to create immersive visualizations of housing projects that can be accessed with a simple QR code scan no app download required. With our partners at Scavenger and Aurora, you can not only learn about women pioneers who made important contributions to society, but experience their stories to multisensory AR monuments across cities in Germany with their make us visible campaign. I can't wait to see what you create when the world is your canvas. Back to you, Stavon. Thanks, Val. Geospatial creator is available today in Adobe Arrow, Geospatial Proolies, and Unity, and across all AR core supported devices on Android and iOS, with more tools coming soon. Let's start with our Geospatial creator workshops using Adobe Arrow or Unity. We believe that the profound shift triggered by augmented reality is that all places can be augmented. When the physical world is augmented, it redefines the way people learn, create, shop, get information, and play. We look forward to redefining the future with you.\n"
          ]
        }
      ]
    },
    {
      "cell_type": "code",
      "source": [
        "with open('text.txt', 'w') as f:\n",
        "    f.write(result[\"text\"])"
      ],
      "metadata": {
        "id": "i2UufhSTXDyl"
      },
      "execution_count": 18,
      "outputs": []
    },
    {
      "cell_type": "code",
      "source": [
        "!pip install googletrans"
      ],
      "metadata": {
        "id": "k4xYKlQXBcXN"
      },
      "execution_count": null,
      "outputs": []
    },
    {
      "cell_type": "code",
      "source": [
        "!pip3 uninstall googletrans\n",
        "!pip3 install googletrans==3.1.0a0"
      ],
      "metadata": {
        "id": "-ZMpkLPpWpwH"
      },
      "execution_count": null,
      "outputs": []
    },
    {
      "cell_type": "code",
      "source": [
        "#translate with google\n",
        "txt = \"default\"\n",
        "with open('text.txt', 'r') as f:\n",
        "  txt = f.read()\n",
        "\n",
        "from googletrans import Translator, constants\n",
        "from pprint import pprint\n",
        "\n",
        "translator = Translator()"
      ],
      "metadata": {
        "id": "ZjDnCP37U9Nh"
      },
      "execution_count": 3,
      "outputs": []
    },
    {
      "cell_type": "code",
      "source": [
        "print(txt)"
      ],
      "metadata": {
        "colab": {
          "base_uri": "https://localhost:8080/"
        },
        "id": "ZCcH4I56Y_Ll",
        "outputId": "77edce46-0c86-4a10-b3e7-e20c7e465bbb"
      },
      "execution_count": 6,
      "outputs": [
        {
          "output_type": "stream",
          "name": "stdout",
          "text": [
            " Hi, I'm Stavon Silva, Product Manager for AR, and I'm joined by Val O'Donnell, Engineer in AR and James Zachary, Director of Animation on Adobe Arrow. Today we have exciting news and tools to share that will make augmented reality and geospatial experiences easier and more fun to create. We believe that the profound shift triggered by augmented reality is that all places can be enhanced with immersive content and experiences. When the physical world is augmented with digital content, it redefines the way people learn, create, shop, get information, and play. Last year we launched the AR Core Geospatial API to help developers create world-anchored experiences in 87 countries. We opened up more than 15 years of our understanding of the world through Google Maps to help developers build augmented reality experiences that are more immersive, richer, and more useful. The Geospatial API provides access to global localization based on the Visual Positioning Service or VPS, the same technology that has been powering live view in Google Maps since 2019, providing people with helpful AR-powered arrows and turned-by-turn directions. This technology allows you to quickly visualize in a matter of seconds, augmented reality experiences without the need to tap or find a surface to place content on. And thanks to Google's decade plus of ground-level imagery, we've already mapped the world in immaculate detail. So with the AR Core Geospatial API, you are able to remotely attach content to the world and guide users to it, allowing you to create immersive location-based AR experiences almost everywhere we have street view. Since the launch of the Geospatial API, we have continued to launch new features to improve localization, performance, and anchoring. For example, we launched terrain anchors earlier last year that allows you to place content accurately on the terrain with a simple latitude and longitude. We have also expanded Geospatial API coverage to over 100 countries so you can build and experience AR content in more locations. Finally, we have engaged with all of you through global hackathons, such as the AR Core Geospatial API Challenge. Thank you for the high-quality submissions across a number of use cases, including gaming, local discovery, and navigation. We heard you ask for the ability to augment the world through a real 3D photo-realistic canvas similar to Google Earth in the tools you already love and use. Today, we are excited to announce we are launching the Geospatial Creator, powered by AR Core and Google Maps platform to do just that. With Geospatial Creator, developers and creators can easily visualize the world they want to augment and enhance it with immersive content that can be experienced in the real world. With that background in mind, let's get right into it. We'll start off by discussing the different building blocks that make Geospatial Creator capabilities possible. Then we'll introduce you to how the capabilities are being integrated into Creator and developer platforms that you know and love. We will also walk you through the look and feel of what that creation and development process looks like. And finally, we'll share what our early partners are already doing with the Geospatial Creator to address a wide range of verticals and use cases. Geospatial Creator is powered by two key platforms, AR Core and Google Maps platform. First, AR Core gives developers the tools to seamlessly blend the digital and physical worlds. The Geospatial Creator powered by AR Core includes client-side Geospatial API and new capabilities such as rooftop anchors and scene semantics. All these Geospatial tools help you build world-anchored cross-platform experiences on both Android and iOS. Everything you create in Geospatial Creator can be experienced in the physical world through real-time localization and real-world augmentation. Next, you need access to Google's digital twin of the world. With Geospatial Creators, developers and creators can now build on top of the experimental release of our Photo Realistic 3D tiles via the Map Tiles API. Google Earth has pioneered 3D Photo Realistic Experiences for the past 20 years, but its components have had limited availability to developers. Starting today, the Map Tiles API lets developers access the same Photo Realistic 3D map used by Google Earth so they can build customized, immersive 3D visualization experiences for their web, mobile, desktop, and automotive applications. For more information about the new AR-Core Geospatial APIs, feel free to check out our session called What's New in AR, and to learn more about the Map Tiles API, feel free to check out our session called Creating Immersive 3D Map Experiences. To bring these capabilities to you, we wanted to work with existing tools that creators and developers know and love. We are excited to announce our Geospatial Creator integrations with Adobe and Unity to make this possible. As of today, Geospatial Creator is integrated in the Adobe Aero Geospatial Pre-Release and in the AR-Core extensions and Geospatial Creator for Unity. So both creators and developers can seamlessly integrate and build immersive apps and experiences on their preferred platforms regardless of their technical coding ability. These integrations offer full end-to-end workflows where you can imagine, create, and deploy world-scale AR experiences wherever you are. Now we will walk you through each of these tools. First, we will cover our creator tool partner, Adobe Aero. To do this, I'll hand it over to James Zachary, Director of Animation on Adobe Aero, to talk about how you can start creating Geospatial Experiences today in Adobe Aero. That will then follow him to cover Unity and real-world use cases and partnerships. Thanks, Devon, and hello, everybody. Today I'm excited to show you how to create interactive 3D stories in augmented reality that are anchored to actual world-world locations, like a park, museum entrance, or your neighborhood fashion boutique. With Adobe Aero's new Geospatial Pre-Release, you can create these immersive 3D stories within minutes, and without needing to code, allowing us as creators to focus on the experience we want to craft for our audience. In this example today, we're going to show you how a fictional local coffee shop can showcase their weekly pastries and create some buzz around their delicious donuts in a fun and unique way, without the expense of creating physical signage or having to hire an external creative or technical agency just to build the experience. With Aero, creators can easily create and then share their experiences using a link or QR code. The audience think can then view the experience without needing to install an app on any sported device. So let's dive in and understand how all this is possible. With Geospatial creator in Adobe Aero Geospatial Pre-Release, you can visualize the real world in Aero using Google Maps Platforms 3D tiles. Simply type in the address into the search field, get the 3D geometry, and navigate around to the perfect location for your experience. You can then bring in the assets just by dragging them into the scene and placing them wherever you want. Imagine your business or retail location is the anchor point for this experience. Aero allows you to tell your digital story right there for your audience at your location. Now unlike traditional passive digital media, which may not capture your audience's full attention, Aero allows you to add interactivity to our scenes and make them come alive through triggers and actions. You can also add a call to action to open up any URL from within the experience, such as a landing page or a link to your latest offer. Now nobody likes to download and install an app to view and experience. We all know that. And with Adobe Aero, your audience does not have to. In Aero, you can quickly share your experience with anyone that has a sport of device, sharing its customizable, it's simple, and it's immediate. All your audience needs to do to see your experience is to scan your QR code or click on your link while they're at the location specified by you and the experience will quickly localize and appear before them. We could see how powerful a story medium this is for enabling businesses and creators to engage with their audience. And that is how simple it is to build and share interactive 3D creations using geospatial creator in Adobe Aero's us spatial pre-release. We believe AR experiences should be intuitive and straightforward to create, completely customizable and deeply immersive, and they should be viewable by your audience without needing to install an app. And with that, I'll pass over to you Val. Thanks James. We are so excited to extend these capabilities to broader audiences and can't wait to see what you create with Adobe Aero using geospatial creator. For developers, we're excited to bring geospatial creator capabilities to our Unity SDK with the AR core extensions and the geospatial creator for Unity. We know you love Unity's powerful platform to add delightful behaviors to AR objects and create awesome AR experiences, which geospatial creator and Unity be able to create world-scale experiences that were not possible before. Our goal is to bring a world-tier editor in a way that allows you to make your creations possible. This is done by selecting location, getting the 3D geometry, and flying through the space as you would on Google Earth, all powered by Google Maps platform map tiles API. You can be inspired with this surrounding scene and navigate space as you create and experiment. Once you decide what you want to augment, you can anchor content into the scene, and all the geospatial coordinates you need get included. No additional steps are needed for identifying latitude, longitude, elevation, rotation and co-tournion of this selected location anymore. The real world becomes your canvas to play and augment. We do all the hard work for you. Now you want to bring your creations to life in the real world. By heading outside with an Android or iOS mobile app, users can quickly localize and experience your creations powered by the AR core geospatial API. A geospatial creator has never been easier to build robust, accurate, and rich immersive world-engrored experiences. The world is your canvas. You can't wait to see what magic you'll create. Join us for a tutorial in our two workshop sessions. So now that you have the tools to create world-engrored content, what should you do? Well, we have been so impressed with what our partners across a number of different verticals have done. Today, we'll focus on four sets of applications and use cases. Our first vertical is local discovery. Thanks to the geospatial creator, developers and creators can focus on creating immersive experiences across entire cities in the world to help users learn about the tourist destination, local artist, or shopping promotion. For example, the Singapore Tourism Board used Unity and StreetScape Geometry to create an immersive guided tour in their Visit Singapore app. Merle, the 3D mascot, guides visitors to tourist hotspots using augmented reality to bring landmarks, shops, and historical monuments to life. So tourists can experience the city in a new delightful way. We're partnering with Gap and Mattel to transform the Times Square Gap Store into an iconic Gap and Barbie experience with augmented reality. Created with the geospatial creator and Adobe Arrow geospatial pre-release, fans can easily experience this exciting collaboration through an appless visual sneak peak into the new Gap and Barbie product line coming later this month. We collaborated with Google Arts and Culture and Global Street Art to curate street artists across London, Mexico City, and Los Angeles to bring art to life and take over whole buildings. The artists used geospatial creator and Adobe Arrow to create the experience and thanks to the easy deployment, people can simply scan a QR code to unlock the interactive virtual art pieces no app download required. Next is immersive entertainment. The future of gaming, live sports, and entertainment is here. Starting with gaming, we're excited to announce Google is partnering with Tito to launch space invaders world defense 45 years after the original release. The game is inspired by the original gameplay, but played in AR and 3D. Players will have to destroy space invaders coming at them from portals opening in the sky and buildings. Next, experience the future of sports, starting with live golf tournaments in partnership with Kintar, the official mobile AR developer of the PGA tour. You can see which whole your favorite players are at and get shown navigational directions on how to get there. You can also view ball tracking and player stats as you walk around the course. Next up are helpful use cases across mobility that make it easier for people to navigate and get around. There are a number of use cases that require pinpoint accuracy, such as needing help with parking of scooters, bikes, or locating them. Last year, burden line improved parking accuracy via geospatial API to provide clearer guidance for the riders and a cleaner road inside walk experience in cities. Your result, greater peace of mind, and more properly park scooters in city streets, leading to better relationships with communities that are partners serve. Since then, both bird and line have oriented to scale solution over the past year. Last but not least, a social impact. Have you ever wondered what urban changes would actually look like in your city or neighborhood before being built? Or who were the pioneers who changed your city and its culture? Now you can see and feel those changes in the real world. Starting with Gensler, you can now visualize what the new city projects might look like for the displaced. With Adobe Arrow, they're able to create immersive visualizations of housing projects that can be accessed with a simple QR code scan no app download required. With our partners at Scavenger and Aurora, you can not only learn about women pioneers who made important contributions to society, but experience their stories to multisensory AR monuments across cities in Germany with their make us visible campaign. I can't wait to see what you create when the world is your canvas. Back to you, Stavon. Thanks, Val. Geospatial creator is available today in Adobe Arrow, Geospatial Proolies, and Unity, and across all AR core supported devices on Android and iOS, with more tools coming soon. Let's start with our Geospatial creator workshops using Adobe Arrow or Unity. We believe that the profound shift triggered by augmented reality is that all places can be augmented. When the physical world is augmented, it redefines the way people learn, create, shop, get information, and play. We look forward to redefining the future with you.\n"
          ]
        }
      ]
    },
    {
      "cell_type": "code",
      "source": [
        "# translate a spanish text to english text (by default)\n",
        "translation = translator.translate(txt, dest=\"ru\")\n",
        "print(f\"{translation.text} ({translation.dest})\")"
      ],
      "metadata": {
        "colab": {
          "base_uri": "https://localhost:8080/"
        },
        "id": "vyI5tkdOWQee",
        "outputId": "3e5654cf-95ee-4396-cd4a-48ed1ed05279"
      },
      "execution_count": 7,
      "outputs": [
        {
          "output_type": "stream",
          "name": "stdout",
          "text": [
            "Привет, я Ставон Сильва, менеджер по продуктам дополненной реальности, ко мне присоединились Вэл О'Доннелл, инженер дополненной реальности, и Джеймс Захари, директор по анимации в Adobe Arrow. Сегодня у нас есть интересные новости и инструменты, которые сделают дополненную реальность и геопространственный опыт проще и интереснее. Мы считаем, что глубокий сдвиг, вызванный дополненной реальностью, заключается в том, что все места могут быть улучшены за счет иммерсивного контента и опыта. Когда физический мир дополняется цифровым контентом, он по-новому определяет то, как люди учатся, создают, делают покупки, получают информацию и играют. В прошлом году мы запустили AR Core Geospatial API, чтобы помочь разработчикам создавать привязку к миру в 87 странах. Мы открыли более чем 15-летнее наше понимание мира с помощью Google Maps, чтобы помочь разработчикам создавать дополненную реальность, которая является более захватывающей, богатой и более полезной. Geospatial API обеспечивает доступ к глобальной локализации на основе службы визуального позиционирования или VPS, той же технологии, которая обеспечивает просмотр в режиме реального времени в Картах Google с 2019 года, предоставляя людям полезные стрелки на основе дополненной реальности и пошаговые инструкции. Эта технология позволяет за считанные секунды визуализировать дополненную реальность без необходимости нажимать или находить поверхность для размещения контента. А благодаря наземным изображениям Google, которым уже более десяти лет, мы уже нанесли на карту мир в безупречных деталях. Таким образом, с помощью AR Core Geospatial API вы можете удаленно прикреплять контент к миру и направлять пользователей к нему, позволяя создавать иммерсивные AR-опыты на основе местоположения почти везде, где у нас есть просмотр улиц. С момента запуска Geospatial API мы продолжали запускать новые функции для улучшения локализации, производительности и привязки. Например, ранее в прошлом году мы запустили привязки к местности, которые позволяют точно размещать контент на местности с помощью простых значений широты и долготы. Мы также расширили охват Geospatial API до более чем 100 стран, чтобы вы могли создавать и использовать AR-контент в большем количестве мест. Наконец, мы взаимодействовали со всеми вами через глобальные хакатоны, такие как AR Core Geospatial API Challenge. Благодарим вас за высококачественные материалы для различных вариантов использования, включая игры, локальное обнаружение и навигацию. Мы слышали, что вы просили о возможности дополнить мир с помощью настоящего трехмерного фотореалистичного холста, похожего на Google Планета Земля, в инструментах, которые вы уже любите и используете. Сегодня мы рады объявить, что запускаем Geospatial Creator на базе AR Core и платформы Google Maps, чтобы сделать именно это. С помощью Geospatial Creator разработчики и создатели могут легко визуализировать мир, который они хотят дополнить и улучшить с помощью иммерсивного контента, который можно испытать в реальном мире. Имея в виду этот фон, давайте приступим к делу. Мы начнем с обсуждения различных строительных блоков, которые делают возможными возможности Geospatial Creator. Затем мы познакомим вас с тем, как эти возможности интегрируются в платформы Creator и Developer, которые вы знаете и любите. Мы также познакомим вас с тем, как выглядит этот процесс создания и разработки. И, наконец, мы поделимся тем, что наши ранние партнеры уже делают с Geospatial Creator для решения широкого круга вертикалей и вариантов использования. Geospatial Creator работает на двух ключевых платформах: AR Core и платформе Google Maps. Во-первых, AR Core предоставляет разработчикам инструменты для беспрепятственного объединения цифрового и физического миров. Geospatial Creator на базе AR Core включает клиентский Geospatial API и новые возможности, такие как привязки на крыше и семантика сцены. Все эти геопространственные инструменты помогают создавать кросс-платформенные приложения с привязкой к миру как на Android, так и на iOS. Все, что вы создаете в Geospatial Creator, можно испытать в физическом мире посредством локализации в реальном времени и дополнений в реальном мире. Затем вам нужен доступ к цифровому двойнику мира Google. С помощью Geospatial Creators разработчики и создатели теперь могут использовать экспериментальную версию наших фотореалистичных 3D-плиток с помощью Map Tiles API. В течение последних 20 лет Google Планета Земля была пионером в области 3D-фотореализма, но его компоненты были доступны разработчикам в ограниченном количестве. С сегодняшнего дня Map Tiles API позволяет разработчикам получать доступ к той же фотореалистичной 3D-карте, которая используется в Google Планета Земля, чтобы они могли создавать настраиваемые иммерсивные возможности 3D-визуализации для своих веб-приложений, мобильных, настольных и автомобильных приложений. Для получения дополнительной информации о новых геопространственных API AR-Core, не стесняйтесь проверить наш сеанс под названием «Что нового в AR», а чтобы узнать больше об API фрагментов карты, не стесняйтесь проверить наш сеанс под названием «Создание иммерсивных 3D-карт». Чтобы предоставить вам эти возможности, мы хотели работать с существующими инструментами, которые создатели и разработчики знают и любят. Мы рады объявить об интеграции Geospatial Creator с Adobe и Unity, чтобы сделать это возможным. На сегодняшний день Geospatial Creator интегрирован в предварительную версию Adobe Aero Geospatial, а также в расширения AR-Core и Geospatial Creator для Unity. Таким образом, как создатели, так и разработчики могут беспрепятственно интегрировать и создавать иммерсивные приложения и возможности на предпочитаемых ими платформах, независимо от их технических навыков кодирования. Эти интеграции предлагают полные сквозные рабочие процессы, в которых вы можете придумывать, создавать и развертывать возможности дополненной реальности мирового масштаба, где бы вы ни находились. Теперь мы познакомим вас с каждым из этих инструментов. Во-первых, мы расскажем о нашем партнере по инструментам для творчества, Adobe Aero. Для этого я передам слово Джеймсу Закари, директору по анимации в Adobe Aero, чтобы он рассказал о том, как вы можете начать создавать геопространственные объекты уже сегодня в Adobe Aero. Затем он расскажет о Unity, реальных примерах использования и партнерствах. Спасибо, Девон, и привет всем. Сегодня я рад показать вам, как создавать интерактивные 3D-истории в дополненной реальности, привязанные к реальным местам мира, таким как парк, вход в музей или модный бутик в вашем районе. С новой предварительной версией Adobe Aero Geospatial вы можете создавать эти захватывающие 3D-истории за считанные минуты и без необходимости кодировать, что позволяет нам, как создателям, сосредоточиться на опыте, который мы хотим создать для нашей аудитории. Сегодня в этом примере мы собираемся показать вам, как вымышленная местная кофейня может демонстрировать свою еженедельную выпечку и создавать шумиху вокруг своих вкусных пончиков веселым и уникальным способом, без затрат на создание физической вывески или необходимости нанимать внешнее творческое или техническое агентство просто для создания опыта. С Aero создатели могут легко создавать, а затем делиться своим опытом, используя ссылку или QR-код. Аудитория думает, что затем может просматривать опыт без необходимости устанавливать приложение на любом спортивном устройстве. Итак, давайте погрузимся и поймем, как все это возможно. С помощью Geospatial Creator в Adobe Aero Geospatial Pre-Release вы можете визуализировать реальный мир в Aero с помощью 3D-плиток Google Maps Platforms. Просто введите адрес в поле поиска, получите 3D-геометрию и перейдите к идеальному месту для вашего опыта. Затем вы можете добавить активы, просто перетащив их на сцену и разместив в любом месте. Представьте, что ваш бизнес или магазин является отправной точкой для этого опыта. Aero позволяет вам рассказать свою цифровую историю прямо там, где вы находитесь, для вашей аудитории. Теперь, в отличие от традиционных пассивных цифровых медиа, которые могут не полностью захватить внимание вашей аудитории, Aero позволяет вам добавить интерактивности в наши сцены и оживить их с помощью триггеров и действий. Вы также можете добавить призыв к действию, чтобы открыть любой URL-адрес внутри интерфейса, например целевую страницу или ссылку на ваше последнее предложение. Теперь никто не любит загружать и устанавливать приложение для просмотра и опыта. Мы все это знаем. А с Adobe Aero вашей аудитории это не нужно. В Aero вы можете быстро поделиться своим опытом с любым, у кого есть спортивное устройство, поделившись его настраиваемостью, простотой и мгновенностью. Все, что нужно вашей аудитории, чтобы увидеть ваш опыт, — это отсканировать ваш QR-код или щелкнуть вашу ссылку, пока они находятся в указанном вами месте, и опыт быстро локализуется и появится перед ними. Мы могли видеть, насколько мощной является эта среда для создания историй, позволяющая предприятиям и создателям взаимодействовать со своей аудиторией. Вот как просто создавать и публиковать интерактивные 3D-творения с помощью геопространственного редактора в предварительном выпуске Adobe Aero для использования в пространстве США. Мы считаем, что опыт дополненной реальности должен быть интуитивно понятным и простым в создании, полностью настраиваемым и глубоко захватывающим, и он должен быть доступен для просмотра вашей аудиторией без необходимости установки приложения. И на этом я передам вам Вал. Спасибо, Джеймс. Мы очень рады расширить эти возможности для более широкой аудитории и не можем дождаться, чтобы увидеть, что вы создаете с помощью Adobe Aero, используя геопространственный редактор. Для разработчиков мы рады добавить возможности создания геопространственных данных в наш SDK Unity с основными расширениями AR и генератором геопространственных данных для Unity. Мы знаем, что вам нравится мощная платформа Unity, позволяющая добавлять восхитительные варианты поведения к объектам дополненной реальности и создавать удивительные возможности дополненной реальности, которые геопространственный создатель и Unity могут создавать возможности мирового масштаба, которые раньше были невозможны. Наша цель — сделать редактор мирового уровня таким, чтобы вы могли реализовать свои творения. Это делается путем выбора местоположения, получения 3D-геометрии и полета в пространстве, как в Google Планета Земля, и все это работает на основе API фрагментов карты платформы Google Maps. Вы можете вдохновляться этой окружающей сценой и перемещаться в пространстве, создавая и экспериментируя. Как только вы решите, что хотите дополнить, вы можете привязать контент к сцене, и все необходимые вам геопространственные координаты будут включены. Больше не требуется никаких дополнительных шагов для определения широты, долготы, высоты, вращения и котурниона этого выбранного местоположения. Реальный мир становится вашим холстом для игр и дополнений. Мы делаем всю тяжелую работу за вас. Теперь вы хотите воплотить свои творения в жизнь в реальном мире. Выйдя на улицу с мобильным приложением для Android или iOS, пользователи могут быстро локализовать и испытать ваши творения с помощью основного геопространственного API AR. Разработчику геопространственной информации еще никогда не было так легко создавать надежные, точные и насыщенные иммерсивные приложения с погружением в мир. Мир — это ваш холст. Вам не терпится увидеть, какое волшебство вы создадите. Присоединяйтесь к нам для обучения на наших двух семинарах. Итак, теперь, когда у вас есть инструменты для создания всемирно известного контента, что вам следует делать? Что ж, мы были очень впечатлены тем, что сделали наши партнеры по разным вертикалям. Сегодня мы сосредоточимся на четырех наборах приложений и вариантов использования. Наша первая вертикаль — локальное открытие. Благодаря создателю геопространственных данных разработчики и создатели могут сосредоточиться на создании иммерсивных впечатлений во всех городах мира, чтобы помочь пользователям узнать о туристическом направлении, местном художнике или продвижении покупок. Например, Управление по туризму Сингапура использовало Unity и StreetScape Geometry для создания захватывающей экскурсии в своем приложении Visit Singapore. Мерле, трехмерный талисман, направляет посетителей в популярные туристические места, используя дополненную реальность, чтобы оживить достопримечательности, магазины и исторические памятники. Таким образом, туристы могут познакомиться с городом по-новому. Мы сотрудничаем с Gap и Mattel, чтобы превратить магазин Gap на Таймс-сквер в культовый магазин Gap и Barbie с дополненной реальностью. Созданный с помощью создателя геопространственных данных и предварительного выпуска геопространственных данных Adobe Arrow, фанаты могут легко испытать это захватывающее сотрудничество через визуальный обзор новой линейки продуктов Gap и Barbie, которая появится позже в этом месяце. Мы сотрудничали с Google Arts and Culture и Global Street Art, чтобы курировать уличных художников в Лондоне, Мехико и Лос-Анджелесе, чтобы воплотить искусство в жизнь и захватить целые здания. Художники использовали Geospatial Creator и Adobe Arrow для создания опыта, и благодаря простоте развертывания люди могут просто отсканировать QR-код, чтобы разблокировать интерактивные виртуальные произведения искусства без необходимости загрузки приложения. Далее идут иммерсивные развлечения. Будущее игр, спортивных трансляций и развлечений уже здесь. Начиная с игр, мы рады сообщить, что Google сотрудничает с Тито, чтобы запустить космические захватчики: защита мира через 45 лет после первоначального выпуска. Игра вдохновлена ​​оригинальным геймплеем, но в AR и 3D. Игрокам предстоит уничтожать космических захватчиков, идущих на них из открывающихся в небе порталов и зданий. Затем испытайте будущее спорта, начав с турниров по гольфу в прямом эфире в сотрудничестве с Kintar, официальным разработчиком мобильного AR тура PGA. Вы можете видеть, где находятся ваши любимые игроки, и получать навигационные указания о том, как туда добраться. Вы также можете просматривать отслеживание мяча и статистику игроков во время прогулки по полю. Далее следуют полезные варианты использования мобильности, которые облегчают людям навигацию и передвижение. Существует ряд случаев использования, требующих высокой точности, например, помощь в парковке скутеров, велосипедов или их местонахождении. В прошлом году тяговая линия улучшила точность парковки с помощью геопространственного API, чтобы обеспечить более четкое руководство для водителей и более чистую дорогу внутри города. Ваш результат, большее душевное спокойствие и более правильная парковка скутеров на городских улицах, что приводит к улучшению отношений с сообществами, которые обслуживают партнеры. С тех пор и птица, и линия в прошлом году ориентировались на масштабное решение. Наконец, что не менее важно, социальное воздействие. Вы когда-нибудь задумывались, как на самом деле будут выглядеть городские изменения в вашем городе или районе до того, как они будут построены? Или кто были первопроходцами, изменившими ваш город и его культуру? Теперь вы можете увидеть и почувствовать эти изменения в реальном мире. Начиная с Генслера, теперь вы можете визуализировать, как могут выглядеть новые городские проекты для перемещенных лиц. С помощью Adobe Arrow они могут создавать иммерсивные визуализации жилищных проектов, к которым можно получить доступ с помощью простого сканирования QR-кода без необходимости загрузки приложения. С нашими партнерами из Scavenger и Aurora вы можете не только узнать о женщинах-первопроходцах, которые внесли важный вклад в развитие общества, но и узнать их истории о мультисенсорных памятниках дополненной реальности в городах Германии с их кампанией «Сделай нас заметными». Не могу дождаться, когда увижу, что ты создашь, когда весь мир станет твоим холстом. Вернемся к вам, Ставон. Спасибо, Вал. Geospatial Creator доступен уже сегодня в Adobe Arrow, Geospatial Proolies и Unity, а также на всех устройствах с поддержкой ядра AR на Android и iOS. В ближайшее время появятся дополнительные инструменты. Давайте начнем с наших семинаров по созданию геопространственных изображений с использованием Adobe Arrow или Unity. Мы считаем, что глубокий сдвиг, вызванный дополненной реальностью, заключается в том, что все места могут быть дополнены. Когда физический мир расширяется, он меняет то, как люди учатся, создают, делают покупки, получают информацию и играют. Мы с нетерпением ждем возможности переопределить будущее вместе с вами. (ru)\n"
          ]
        }
      ]
    },
    {
      "cell_type": "code",
      "source": [
        "# translate a spanish text to english text (by default)\n",
        "translation = translator.translate(txt, dest=\"ar\")\n",
        "print(f\"{translation.text} ({translation.dest})\")"
      ],
      "metadata": {
        "colab": {
          "base_uri": "https://localhost:8080/"
        },
        "id": "-kOMMHqoZQXY",
        "outputId": "97b37374-9894-447d-a2d2-046ad30e397f"
      },
      "execution_count": 9,
      "outputs": [
        {
          "output_type": "stream",
          "name": "stdout",
          "text": [
            "مرحبًا ، أنا ستافون سيلفا ، مدير المنتج للواقع المعزز ، وانضم إلي فال أودونيل ، مهندس في AR وجيمس زاكاري ، مدير الرسوم المتحركة على Adobe Arrow. لدينا اليوم أخبار وأدوات مثيرة لمشاركتها ستجعل إنشاء الواقع المعزز والتجارب الجغرافية المكانية أسهل وأكثر متعة. نعتقد أن التحول العميق الناتج عن الواقع المعزز هو أنه يمكن تحسين جميع الأماكن بمحتوى وتجارب غامرة. عندما يتم تعزيز العالم المادي بالمحتوى الرقمي ، فإنه يعيد تعريف الطريقة التي يتعلم بها الناس ويخلقون ويتسوقون ويحصلون على المعلومات ويلعبون. أطلقنا العام الماضي AR Core Geospatial API لمساعدة المطورين على إنشاء تجارب عالمية في 87 دولة. لقد فتحنا أكثر من 15 عامًا من فهمنا للعالم من خلال خرائط Google لمساعدة المطورين على بناء تجارب واقع معزز تكون أكثر شمولاً وثراءً وفائدة. توفر واجهة برمجة التطبيقات الجغرافية المكانية إمكانية الوصول إلى الترجمة العالمية استنادًا إلى خدمة تحديد المواقع المرئية أو VPS ، وهي نفس التقنية التي تعمل على تشغيل العرض المباشر في خرائط Google منذ عام 2019 ، مما يوفر للأشخاص أسهم مفيدة مدعومة بالواقع المعزز واتجاهات خطوة بخطوة. تسمح لك هذه التقنية بالتخيل السريع لتجارب الواقع المعزز في غضون ثوانٍ دون الحاجة إلى النقر أو العثور على سطح لوضع المحتوى عليه. وبفضل صور مستوى الأرض التي امتدت لعقد من الزمن من Google ، فقد قمنا بالفعل برسم خريطة للعالم بتفاصيل دقيقة. لذلك باستخدام واجهة برمجة تطبيقات AR Core Geospatial ، يمكنك إرفاق المحتوى عن بُعد بالعالم وتوجيه المستخدمين إليه ، مما يتيح لك إنشاء تجارب AR قائمة على الموقع في كل مكان تقريبًا لدينا عرض الشارع. منذ إطلاق Geospatial API ، واصلنا إطلاق ميزات جديدة لتحسين الترجمة والأداء والتثبيت. على سبيل المثال ، أطلقنا مثبتات التضاريس في وقت سابق من العام الماضي والتي تتيح لك وضع المحتوى بدقة على التضاريس باستخدام خط عرض وخط طول بسيطين. لقد قمنا أيضًا بتوسيع تغطية Geospatial API إلى أكثر من 100 دولة حتى تتمكن من إنشاء محتوى AR وتجربته في المزيد من المواقع. أخيرًا ، تعاملنا معكم جميعًا من خلال الهاكاثونات العالمية ، مثل AR Core Geospatial API Challenge. شكرًا لك على عمليات الإرسال عالية الجودة عبر عدد من حالات الاستخدام ، بما في ذلك الألعاب والاكتشاف المحلي والتنقل. سمعنا أنك تطلب القدرة على تعزيز العالم من خلال لوحة صور واقعية ثلاثية الأبعاد تشبه Google Earth في الأدوات التي تحبها وتستخدمها بالفعل. اليوم ، يسعدنا أن نعلن أننا نطلق Geospatial Creator ، بدعم من AR Core ومنصة خرائط Google للقيام بذلك. مع Geospatial Creator ، يمكن للمطورين والمبدعين بسهولة تصور العالم الذي يريدون زيادته وتحسينه بمحتوى غامر يمكن تجربته في العالم الحقيقي. مع وضع هذه الخلفية في الاعتبار ، دعنا ندخلها مباشرة. سنبدأ بمناقشة اللبنات الأساسية المختلفة التي تجعل إمكانات منشئ المحتوى الجغرافي ممكنًا. بعد ذلك سنقدم لك كيفية دمج الإمكانات في الأنظمة الأساسية للمطورين والمبدعين التي تعرفها وتحبها. سنرشدك أيضًا إلى الشكل والمظهر لما تبدو عليه عملية الإنشاء والتطوير. وأخيرًا ، سنشارك ما يفعله شركاؤنا الأوائل بالفعل مع Geospatial Creator لمعالجة مجموعة واسعة من القطاعات وحالات الاستخدام. يتم تشغيل Geospatial Creator بواسطة نظامين أساسيين ، AR Core ومنصة خرائط Google. أولاً ، يمنح AR Core المطورين الأدوات اللازمة لدمج العالمين الرقمي والمادي بسلاسة. يتضمن Geospatial Creator المدعوم من AR Core واجهة برمجة تطبيقات Geospatial من جانب العميل وإمكانيات جديدة مثل المراسي على السطح ودلالات المشهد. تساعدك كل هذه الأدوات الجغرافية المكانية على بناء تجارب عبر الأنظمة الأساسية على مستوى العالم على كل من Android و iOS. يمكن تجربة كل شيء تقوم بإنشائه في Geospatial Creator في العالم المادي من خلال التعريب في الوقت الفعلي والتكبير في العالم الحقيقي. بعد ذلك ، تحتاج إلى الوصول إلى توأم Google الرقمي للعالم. مع Geospatial Creators ، يمكن للمطورين والمبدعين الآن البناء على الإصدار التجريبي من مربعات الصور الواقعية ثلاثية الأبعاد عبر Map Tiles API. كان برنامج Google Earth رائدًا في التجارب الواقعية ثلاثية الأبعاد للصور على مدار العشرين عامًا الماضية ، لكن مكوناته كانت محدودة الإتاحة للمطورين. بدءًا من اليوم ، تتيح Map Tiles API للمطورين الوصول إلى نفس خريطة Photo Realistic 3D التي يستخدمها Google Earth حتى يتمكنوا من إنشاء تجارب تصور ثلاثية الأبعاد مخصصة وغامرة لتطبيقات الويب والجوال وسطح المكتب والسيارات. لمزيد من المعلومات حول AR-Core Geospatial APIs الجديدة ، لا تتردد في الاطلاع على جلستنا المسماة الجديد في AR ، ولمعرفة المزيد حول Map Tiles API ، لا تتردد في الاطلاع على جلستنا المسماة إنشاء تجارب خرائط غامرة ثلاثية الأبعاد. لتقديم هذه الإمكانات إليك ، أردنا العمل مع الأدوات الحالية التي يعرفها ويحبها المبدعون والمطورون. يسعدنا الإعلان عن تكامل Geospatial Creator مع Adobe و Unity لجعل ذلك ممكنًا. اعتبارًا من اليوم ، تم دمج Geospatial Creator في الإصدار التجريبي من Adobe Aero Geospatial وفي امتدادات AR-Core و Geospatial Creator for Unity. لذلك يمكن لكل من المبدعين والمطورين دمج وبناء تطبيقات وتجارب غامرة بسلاسة على الأنظمة الأساسية المفضلة لديهم بغض النظر عن قدرتهم التقنية على الترميز. توفر عمليات الدمج هذه تدفقات عمل كاملة وشاملة حيث يمكنك تخيل تجارب الواقع المعزز على نطاق عالمي وإنشاؤها ونشرها أينما كنت. سنرشدك الآن خلال كل من هذه الأدوات. أولاً ، سنغطي شريكنا في أداة الإنشاء ، Adobe Aero. للقيام بذلك ، سأسلمه إلى جيمس زاكاري ، مدير الرسوم المتحركة في Adobe Aero ، للتحدث عن كيفية البدء في إنشاء تجارب جغرافية مكانية اليوم في Adobe Aero. سيتبعه ذلك بعد ذلك لتغطية الوحدة وحالات الاستخدام في العالم الحقيقي والشراكات. شكراً ديفون ومرحباً بكم جميعاً. أنا متحمس اليوم لتوضيح كيفية إنشاء قصص تفاعلية ثلاثية الأبعاد في الواقع المعزز والتي ترتبط بمواقع عالمية فعلية ، مثل المنتزه أو مدخل المتحف أو بوتيك الأزياء في منطقتك. مع الإصدار التجريبي الجديد من برنامج Adobe Aero Geospatial ، يمكنك إنشاء هذه القصص ثلاثية الأبعاد الغامرة في غضون دقائق ، ودون الحاجة إلى البرمجة ، مما يسمح لنا كمبدعين بالتركيز على التجربة التي نريد صنعها لجمهورنا. في هذا المثال اليوم ، سوف نوضح لك كيف يمكن لمقهى محلي خيالي أن يعرض معجناته الأسبوعية ويخلق بعض الضجة حول الكعك اللذيذ بطريقة ممتعة وفريدة من نوعها ، دون تكلفة إنشاء لافتات مادية أو الاضطرار إلى استئجار وكالة إبداعية أو فنية خارجية فقط لبناء التجربة. باستخدام Aero ، يمكن للمبدعين بسهولة إنشاء تجاربهم ثم مشاركتها باستخدام رابط أو رمز QR. يعتقد الجمهور أنه يمكن بعد ذلك عرض التجربة دون الحاجة إلى تثبيت تطبيق على أي جهاز رياضي. لذلك دعونا نتعمق ونفهم كيف يكون كل هذا ممكنًا. مع منشئ Geospatial في الإصدار التجريبي من Adobe Aero Geospatial ، يمكنك تصور العالم الحقيقي في Aero باستخدام مربعات Google Maps Platforms ثلاثية الأبعاد. ما عليك سوى كتابة العنوان في حقل البحث ، والحصول على الهندسة ثلاثية الأبعاد ، والتنقل في جميع أنحاء إلى الموقع المثالي لتجربتك. يمكنك بعد ذلك إحضار الأصول بمجرد سحبها إلى المشهد ووضعها في أي مكان تريده. تخيل أن عملك أو موقع البيع بالتجزئة هو نقطة الارتكاز لهذه التجربة. يسمح لك Aero برواية قصتك الرقمية هناك لجمهورك في موقعك. الآن على عكس الوسائط الرقمية السلبية التقليدية ، والتي قد لا تجذب انتباه جمهورك الكامل ، يتيح لك Aero إضافة تفاعل إلى مشاهدنا وجعلها تنبض بالحياة من خلال المشغلات والإجراءات. يمكنك أيضًا إضافة عبارة تحث المستخدم على اتخاذ إجراء لفتح أي عنوان URL من داخل التجربة ، مثل صفحة مقصودة أو رابط لعرضك الأخير. الآن لا أحد يحب تنزيل تطبيق وتثبيته لعرضه وتجربته. نحن كلنا نعلم ذلك. ومع Adobe Aero ، لن يضطر جمهورك إلى ذلك. في Aero ، يمكنك مشاركة تجربتك بسرعة مع أي شخص يمتلك جهازًا رياضيًا ، ومشاركة الجهاز القابل للتخصيص ، وهو بسيط ، وفوري. كل ما يحتاجه جمهورك ليرى تجربتك هو مسح رمز الاستجابة السريعة الخاص بك أو النقر فوق الارتباط الخاص بك أثناء تواجدهم في الموقع الذي تحدده وستتم ترجمة التجربة بسرعة وستظهر أمامهم. يمكننا أن نرى مدى قوة وسيط القصة في تمكين الشركات والمبدعين من التفاعل مع جمهورهم. وهذا هو مدى سهولة إنشاء ومشاركة إبداعات تفاعلية ثلاثية الأبعاد باستخدام منشئ الجغرافيا المكانية في الإصدار المسبق المكاني لنا من Adobe Aero. نعتقد أن تجارب الواقع المعزز يجب أن تكون بديهية ومباشرة في الإنشاء ، وقابلة للتخصيص بالكامل وغامرة بشكل عميق ، ويجب أن يتمكن جمهورك من مشاهدتها دون الحاجة إلى تثبيت أي تطبيق. وبهذا ، سوف أنقل لك فال. شكرا جيمس. نحن متحمسون جدًا لتوسيع هذه الإمكانات لتشمل جماهير أوسع ولا نطيق الانتظار لمعرفة ما تقوم بإنشائه باستخدام Adobe Aero باستخدام منشئ الجغرافيا المكانية. بالنسبة للمطورين ، نحن متحمسون لتقديم إمكانات المنشئ الجغرافي المكاني إلى Unity SDK مع الامتدادات الأساسية للواقع المعزز والمُنشئ الجغرافي المكاني لـ Unity. نحن نعلم أنك تحب منصة Unity القوية لإضافة سلوكيات مبهجة إلى كائنات AR وإنشاء تجارب AR رائعة ، والتي يستطيع منشئ الجغرافيا المكانية والوحدة إنشاء تجارب عالمية لم تكن ممكنة من قبل. هدفنا هو إحضار محرر عالمي بطريقة تسمح لك بجعل إبداعاتك ممكنة. يتم ذلك عن طريق تحديد الموقع ، والحصول على الهندسة ثلاثية الأبعاد ، والطيران عبر الفضاء كما تفعل على Google Earth ، وكل ذلك مدعوم من واجهة برمجة تطبيقات خرائط النظام الأساسي لخرائط Google. يمكنك أن تستلهم من هذا المشهد المحيط وتتنقل في الفضاء أثناء الإنشاء والتجربة. بمجرد أن تقرر ما تريد زيادته ، يمكنك تثبيت المحتوى في المشهد ، ويتم تضمين جميع الإحداثيات الجغرافية المكانية التي تحتاجها. لم تعد هناك حاجة إلى خطوات إضافية لتحديد خطوط الطول والعرض والارتفاع والدوران والمشاركة في هذا الموقع المحدد بعد الآن. يصبح العالم الحقيقي لوحة الرسم الخاصة بك لتلعبها وتزيدها. ونحن نفعل كل العمل الشاق بالنسبة لك. أنت الآن تريد إضفاء الحيوية على إبداعاتك في العالم الحقيقي. من خلال التوجه إلى الخارج باستخدام تطبيق Android أو iOS للجوّال ، يمكن للمستخدمين ترجمة إبداعاتك وتجربتها بسرعة بدعم من واجهة برمجة التطبيقات الجغرافية المكانية الأساسية للواقع المعزز. لم يكن منشئ الجغرافيا المكانية أبدًا أسهل من أي وقت مضى في بناء تجارب قوية ودقيقة وغنية بالعالم. العالم هو لوحتك. لا يمكنك الانتظار لرؤية السحر الذي ستخلقه. انضم إلينا للحصول على برنامج تعليمي في جلستي ورشتي العمل. والآن بعد أن أصبحت لديك الأدوات اللازمة لإنشاء محتوى عالمي ، ماذا يجب أن تفعل؟ حسنًا ، لقد تأثرنا كثيرًا بما فعله شركاؤنا عبر عدد من القطاعات المختلفة. اليوم ، سنركز على أربع مجموعات من التطبيقات وحالات الاستخدام. أول عمودي لدينا هو الاكتشاف المحلي. بفضل منشئ الجغرافيا المكانية ، يمكن للمطورين والمبدعين التركيز على إنشاء تجارب غامرة عبر مدن بأكملها في العالم لمساعدة المستخدمين على التعرف على الوجهة السياحية أو الفنان المحلي أو الترويج للتسوق. على سبيل المثال ، استخدم مجلس السياحة السنغافوري Unity و StreetScape Geometry لإنشاء جولة إرشادية غامرة في تطبيق Visit Singapore. يوجه Merle ، التميمة ثلاثية الأبعاد ، الزائرين إلى النقاط الساخنة السياحية باستخدام الواقع المعزز لإحياء المعالم والمتاجر والمعالم التاريخية. لذلك يمكن للسائحين تجربة المدينة بطريقة مبهجة جديدة. نحن نتشارك مع Gap و Mattel لتحويل Times Square Gap Store إلى تجربة Gap و Barbie الشهيرة مع الواقع المعزز. تم إنشاؤه مع منشئ الجغرافيا المكانية والإصدار المسبق للجغرافيا المكانية من Adobe Arrow ، ويمكن للمعجبين بسهولة تجربة هذا التعاون المثير من خلال ذروة التسلل المرئي بدون تطبيق في خط إنتاج Gap and Barbie الجديد الذي سيصدر في وقت لاحق من هذا الشهر. لقد تعاونا مع Google Arts and Culture و Global Street Art لرعاية فناني الشوارع في جميع أنحاء لندن ومكسيكو سيتي ولوس أنجلوس لإحياء الفن والاستيلاء على المباني بأكملها. استخدم الفنانون منشئ الجغرافيا المكانية و Adobe Arrow لإنشاء التجربة وبفضل النشر السهل ، يمكن للأشخاص ببساطة مسح رمز الاستجابة السريعة لإلغاء تأمين القطع الفنية الافتراضية التفاعلية التي لا يلزم تنزيل التطبيق. التالي هو الترفيه الغامر. مستقبل الألعاب والرياضات الحية والترفيه هنا. بدءًا من الألعاب ، يسعدنا الإعلان عن شراكة Google مع Tito لإطلاق الدفاع العالمي عن غزاة الفضاء بعد 45 عامًا من الإصدار الأصلي. اللعبة مستوحاة من طريقة اللعب الأصلية ، ولكن يتم لعبها بتقنية AR و 3D. سيتعين على اللاعبين تدمير غزاة الفضاء القادمين إليهم من البوابات المفتوحة في السماء والمباني. بعد ذلك ، جرب مستقبل الرياضة ، بدءًا من بطولات الجولف الحية بالشراكة مع Kintar ، المطور الرسمي للواقع المعزز للجوال لجولة PGA. يمكنك معرفة أي لاعبين مفضلين لديك موجودون وإظهار اتجاهات التنقل حول كيفية الوصول إلى هناك. يمكنك أيضًا عرض تتبع الكرة وإحصائيات اللاعب أثناء تجولك في الملعب. التالي هو حالات استخدام مفيدة عبر التنقل تسهل على الأشخاص التنقل والتنقل. هناك عدد من حالات الاستخدام التي تتطلب دقة بالغة ، مثل الحاجة إلى المساعدة في ركن الدراجات البخارية أو الدراجات أو تحديد مكانها. في العام الماضي ، أدى خط العبء إلى تحسين دقة وقوف السيارات عبر واجهة برمجة التطبيقات الجغرافية المكانية لتوفير إرشادات أوضح للركاب وتجربة طريق أنظف داخل تجربة السير في المدن. نتيجتك ، مزيد من راحة البال ، وركوب الدراجات البخارية بشكل صحيح في شوارع المدينة ، مما يؤدي إلى علاقات أفضل مع المجتمعات التي يخدمها الشركاء. منذ ذلك الحين ، اتجه كل من الطيور والخطوط إلى توسيع نطاق الحل على مدار العام الماضي. أخيرًا وليس آخرًا ، تأثير اجتماعي. هل تساءلت يومًا كيف ستبدو التغييرات الحضرية في مدينتك أو منطقتك قبل بنائها؟ أو من هم الرواد الذين غيروا مدينتك وثقافتها؟ يمكنك الآن رؤية هذه التغييرات والشعور بها في العالم الحقيقي. بدءًا من Gensler ، يمكنك الآن تصور الشكل الذي قد تبدو عليه مشاريع المدينة الجديدة للنازحين. باستخدام Adobe Arrow ، يمكنهم إنشاء تصورات غامرة لمشاريع الإسكان التي يمكن الوصول إليها من خلال مسح رمز QR بسيط دون الحاجة إلى تنزيل التطبيق. مع شركائنا في Scavenger و Aurora ، لا يمكنك فقط التعرف على الرائدات اللاتي قدمن مساهمات مهمة في المجتمع ، ولكن يمكنك تجربة قصصهن في آثار الواقع المعزز متعددة الحواس في جميع أنحاء المدن في ألمانيا من خلال حملتهن التي تجعلنا مرئيين. لا أطيق الانتظار لرؤية ما تصنعه عندما يكون العالم هو لوحتك. نعود إليك يا ستافون. شكرا فال. يتوفر برنامج Geospatial Creator اليوم في Adobe Arrow و Geospatial Proolies و Unity ، وعبر جميع الأجهزة الأساسية المدعومة للواقع المعزز على Android و iOS ، مع توفر المزيد من الأدوات قريبًا. لنبدأ بورش عمل مصممي الجغرافيا المكانية باستخدام Adobe Arrow أو Unity. نعتقد أن التحول العميق الذي أحدثه الواقع المعزز هو أنه يمكن زيادة جميع الأماكن. عندما يتم زيادة العالم المادي ، فإنه يعيد تعريف الطريقة التي يتعلم بها الناس ويخلقون ويتسوقون ويحصلون على المعلومات ويلعبون. نتطلع إلى إعادة تعريف المستقبل معك. (ar)\n"
          ]
        }
      ]
    },
    {
      "cell_type": "code",
      "source": [
        "# translate a spanish text to english text (by default)\n",
        "translation = translator.translate(txt, dest=\"es\")\n",
        "print(f\"{translation.text} ({translation.dest})\")"
      ],
      "metadata": {
        "colab": {
          "base_uri": "https://localhost:8080/"
        },
        "id": "oECbumnNZrvo",
        "outputId": "0d454629-09ff-4383-f109-290f79b4eb88"
      },
      "execution_count": 10,
      "outputs": [
        {
          "output_type": "stream",
          "name": "stdout",
          "text": [
            "Hola, soy Stavon Silva, Gerente de Producto para AR, y me acompañan Val O'Donnell, Ingeniero en AR y James Zachary, Director de Animación en Adobe Arrow. Hoy tenemos noticias y herramientas emocionantes para compartir que harán que la realidad aumentada y las experiencias geoespaciales sean más fáciles y divertidas de crear. Creemos que el cambio profundo desencadenado por la realidad aumentada es que todos los lugares se pueden mejorar con contenido y experiencias envolventes. Cuando el mundo físico se amplía con contenido digital, redefine la forma en que las personas aprenden, crean, compran, obtienen información y juegan. El año pasado lanzamos AR Core Geospatial API para ayudar a los desarrolladores a crear experiencias ancladas en el mundo en 87 países. Abrimos más de 15 años de nuestra comprensión del mundo a través de Google Maps para ayudar a los desarrolladores a crear experiencias de realidad aumentada que sean más inmersivas, ricas y útiles. La API geoespacial brinda acceso a la localización global basada en el Servicio de posicionamiento visual o VPS, la misma tecnología que ha estado impulsando la visualización en vivo en Google Maps desde 2019, brindando a las personas flechas útiles impulsadas por AR e indicaciones paso a paso. Esta tecnología le permite visualizar rápidamente, en cuestión de segundos, experiencias de realidad aumentada sin la necesidad de tocar o encontrar una superficie para colocar el contenido. Y gracias a más de una década de Google de imágenes a nivel del suelo, ya hemos cartografiado el mundo con detalles inmaculados. Entonces, con AR Core Geospatial API, puede adjuntar contenido de forma remota al mundo y guiar a los usuarios hacia él, lo que le permite crear experiencias AR inmersivas basadas en la ubicación en casi todos los lugares donde tenemos Street View. Desde el lanzamiento de la API geoespacial, hemos seguido lanzando nuevas funciones para mejorar la localización, el rendimiento y el anclaje. Por ejemplo, lanzamos anclas de terreno a principios del año pasado que le permiten ubicar contenido con precisión en el terreno con una simple latitud y longitud. También hemos ampliado la cobertura de la API geoespacial a más de 100 países para que pueda crear y experimentar contenido AR en más ubicaciones. Finalmente, nos hemos comprometido con todos ustedes a través de hackatones globales, como AR Core Geospatial API Challenge. Gracias por los envíos de alta calidad en una serie de casos de uso, incluidos los juegos, el descubrimiento local y la navegación. Escuchamos que solicitó la capacidad de aumentar el mundo a través de un lienzo fotorrealista en 3D real similar a Google Earth en las herramientas que ya ama y usa. Hoy, nos complace anunciar que estamos lanzando Geospatial Creator, impulsado por AR Core y la plataforma Google Maps para hacer precisamente eso. Con Geospatial Creator, los desarrolladores y creadores pueden visualizar fácilmente el mundo que quieren aumentar y mejorar con contenido inmersivo que se puede experimentar en el mundo real. Con ese trasfondo en mente, entremos de lleno. Comenzaremos discutiendo los diferentes componentes básicos que hacen posibles las capacidades de Geospatial Creator. Luego, le presentaremos cómo se integran las capacidades en las plataformas de creadores y desarrolladores que conoce y ama. También lo guiaremos a través de la apariencia de cómo se ve ese proceso de creación y desarrollo. Y finalmente, compartiremos lo que nuestros primeros socios ya están haciendo con Geospatial Creator para abordar una amplia gama de verticales y casos de uso. Geospatial Creator funciona con dos plataformas clave, AR Core y la plataforma de Google Maps. Primero, AR Core brinda a los desarrolladores las herramientas para combinar a la perfección los mundos digital y físico. Geospatial Creator impulsado por AR Core incluye la API geoespacial del lado del cliente y nuevas capacidades, como anclas en la azotea y semántica de escenas. Todas estas herramientas geoespaciales lo ayudan a crear experiencias multiplataforma ancladas en el mundo tanto en Android como en iOS. Todo lo que cree en Geospatial Creator se puede experimentar en el mundo físico a través de la localización en tiempo real y el aumento del mundo real. A continuación, necesita acceso al gemelo digital del mundo de Google. Con Geospatial Creators, los desarrolladores y creadores ahora pueden construir sobre la versión experimental de nuestros mosaicos 3D fotorrealistas a través de Map Tiles API. Google Earth ha sido pionero en las experiencias realistas de fotos en 3D durante los últimos 20 años, pero sus componentes han tenido una disponibilidad limitada para los desarrolladores. A partir de hoy, Map Tiles API permite a los desarrolladores acceder al mismo mapa 3D fotorrealista utilizado por Google Earth para que puedan crear experiencias de visualización 3D inmersivas y personalizadas para sus aplicaciones web, móviles, de escritorio y automotrices. Para obtener más información sobre las nuevas API geoespaciales de AR-Core, no dude en consultar nuestra sesión llamada Novedades en AR, y para obtener más información sobre la API Map Tiles, no dude en consultar nuestra sesión llamada Creación de experiencias de mapas 3D inmersivos. Para brindarle estas capacidades, queríamos trabajar con herramientas existentes que los creadores y desarrolladores conocen y aman. Nos complace anunciar nuestras integraciones de Geospatial Creator con Adobe y Unity para que esto sea posible. A partir de hoy, Geospatial Creator está integrado en Adobe Aero Geospatial Pre-Lanzamiento y en las extensiones AR-Core y Geospatial Creator for Unity. Por lo tanto, tanto los creadores como los desarrolladores pueden integrar y crear aplicaciones y experiencias inmersivas sin problemas en sus plataformas preferidas, independientemente de su capacidad técnica de codificación. Estas integraciones ofrecen flujos de trabajo completos de un extremo a otro en los que puede imaginar, crear e implementar experiencias de realidad aumentada a escala mundial dondequiera que esté. Ahora lo guiaremos a través de cada una de estas herramientas. Primero, hablaremos de nuestro socio de herramientas para creadores, Adobe Aero. Para ello, se lo cedo a James Zachary, director de animación de Adobe Aero, para que hable sobre cómo puede empezar a crear experiencias geoespaciales hoy en Adobe Aero. Eso lo seguirá para cubrir casos de uso y asociaciones de Unity y del mundo real. Gracias, Devon, y hola a todos. Hoy estoy emocionado de mostrarles cómo crear historias 3D interactivas en realidad aumentada que están ancladas a ubicaciones reales del mundo, como un parque, la entrada de un museo o la boutique de moda de su vecindario. Con el nuevo prelanzamiento geoespacial de Adobe Aero, puede crear estas historias envolventes en 3D en cuestión de minutos y sin necesidad de codificar, lo que nos permite a los creadores centrarnos en la experiencia que queremos crear para nuestra audiencia. En este ejemplo de hoy, le mostraremos cómo una cafetería local ficticia puede exhibir sus pasteles semanales y crear algo de entusiasmo en torno a sus deliciosas donas de una manera divertida y única, sin el gasto de crear letreros físicos o tener que contratar a un agencia creativa o técnica externa solo para construir la experiencia. Con Aero, los creadores pueden crear fácilmente y luego compartir sus experiencias usando un enlace o código QR. La audiencia cree que puede ver la experiencia sin necesidad de instalar una aplicación en ningún dispositivo deportivo. Entonces, profundicemos y entendamos cómo es posible todo esto. Con Geospatial Creator en Adobe Aero Geospatial Pre-Lanzamiento, puede visualizar el mundo real en Aero usando mosaicos 3D de Google Maps Platforms. Simplemente escriba la dirección en el campo de búsqueda, obtenga la geometría 3D y navegue hasta la ubicación perfecta para su experiencia. A continuación, puede traer los activos simplemente arrastrándolos a la escena y colocándolos donde desee. Imagine que su negocio o tienda minorista es el punto de anclaje de esta experiencia. Aero le permite contar su historia digital allí mismo para su audiencia en su ubicación. Ahora, a diferencia de los medios digitales pasivos tradicionales, que pueden no captar toda la atención de su audiencia, Aero le permite agregar interactividad a nuestras escenas y hacer que cobren vida a través de disparadores y acciones. También puede agregar una llamada a la acción para abrir cualquier URL desde la experiencia, como una página de destino o un enlace a su última oferta. Ahora a nadie le gusta descargar e instalar una aplicación para ver y experimentar. Todos sabemos eso. Y con Adobe Aero, su público no tiene por qué hacerlo. En Aero, puede compartir rápidamente su experiencia con cualquier persona que tenga un deporte de dispositivo, compartiendo su personalización, es simple e inmediato. Todo lo que su audiencia debe hacer para ver su experiencia es escanear su código QR o hacer clic en su enlace mientras están en la ubicación especificada por usted y la experiencia se localizará rápidamente y aparecerá ante ellos. Pudimos ver qué tan poderoso es este medio de la historia para permitir que las empresas y los creadores interactúen con su audiencia. Y así de simple es construir y compartir creaciones 3D interactivas usando el creador geoespacial en el prelanzamiento espacial de Adobe Aero para EE. UU. Creemos que las experiencias de AR deben ser intuitivas y fáciles de crear, completamente personalizables y profundamente inmersivas, y su audiencia debe poder verlas sin necesidad de instalar una aplicación. Y con eso, pasaré a ti Val. Gracias James. Estamos muy emocionados de extender estas capacidades a audiencias más amplias y estamos ansiosos por ver lo que crea con Adobe Aero utilizando el creador geoespacial. Para los desarrolladores, estamos entusiasmados de traer capacidades de creación geoespacial a nuestro SDK de Unity con las extensiones principales AR y el creador geoespacial para Unity. Sabemos que te encanta la poderosa plataforma de Unity para agregar comportamientos encantadores a los objetos AR y crear increíbles experiencias AR, en las que el creador geoespacial y Unity pueden crear experiencias a escala mundial que antes no eran posibles. Nuestro objetivo es traer un editor de nivel mundial de una manera que le permita hacer posibles sus creaciones. Esto se hace seleccionando la ubicación, obteniendo la geometría 3D y volando por el espacio como lo harías en Google Earth, todo con la tecnología de la API de mosaicos de mapas de la plataforma Google Maps. Puedes inspirarte con esta escena circundante y navegar por el espacio mientras creas y experimentas. Una vez que decida qué desea aumentar, puede anclar el contenido en la escena e incluir todas las coordenadas geoespaciales que necesita. Ya no se necesitan pasos adicionales para identificar la latitud, longitud, elevación, rotación y co-torneo de esta ubicación seleccionada. El mundo real se convierte en tu lienzo para jugar y aumentar. Hacemos todo el trabajo duro por ti. Ahora quieres dar vida a tus creaciones en el mundo real. Al salir con una aplicación móvil de Android o iOS, los usuarios pueden localizar y experimentar rápidamente sus creaciones con la tecnología de la API geoespacial principal de AR. Nunca ha sido tan fácil para un creador geoespacial crear experiencias inmersivas robustas, precisas y ricas en todo el mundo. El mundo es tu lienzo. No puedes esperar a ver qué magia crearás. Únase a nosotros para un tutorial en nuestras dos sesiones de taller. Entonces, ahora que tiene las herramientas para crear contenido mundial, ¿qué debe hacer? Bueno, nos ha impresionado mucho lo que han hecho nuestros socios en diferentes verticales. Hoy nos centraremos en cuatro conjuntos de aplicaciones y casos de uso. Nuestra primera vertical es el descubrimiento local. Gracias al creador geoespacial, los desarrolladores y creadores pueden concentrarse en crear experiencias inmersivas en ciudades enteras del mundo para ayudar a los usuarios a aprender sobre el destino turístico, el artista local o la promoción comercial. Por ejemplo, la Junta de Turismo de Singapur usó Unity y StreetScape Geometry para crear una visita guiada inmersiva en su aplicación Visit Singapore. Merle, la mascota en 3D, guía a los visitantes a los puntos de interés turístico utilizando la realidad aumentada para dar vida a los puntos de referencia, las tiendas y los monumentos históricos. Para que los turistas puedan experimentar la ciudad de una nueva manera encantadora. Nos asociamos con Gap y Mattel para transformar la Gap Store de Times Square en una experiencia icónica de Gap y Barbie con realidad aumentada. Creado con el creador geoespacial y el prelanzamiento geoespacial de Adobe Arrow, los fanáticos pueden experimentar fácilmente esta emocionante colaboración a través de un adelanto visual sin manzanas de la nueva línea de productos Gap y Barbie que llegará más adelante este mes. Colaboramos con Google Arts and Culture y Global Street Art para seleccionar artistas callejeros en Londres, Ciudad de México y Los Ángeles para dar vida al arte y apoderarse de edificios completos. Los artistas utilizaron el creador geoespacial y Adobe Arrow para crear la experiencia y, gracias a la fácil implementación, las personas pueden simplemente escanear un código QR para desbloquear las piezas de arte virtuales interactivas sin necesidad de descargar la aplicación. El siguiente es el entretenimiento inmersivo. El futuro de los juegos, los deportes en vivo y el entretenimiento está aquí. Comenzando con los juegos, nos complace anunciar que Google se asociará con Tito para lanzar Space Invaders World Defense 45 años después del lanzamiento original. El juego está inspirado en el juego original, pero se juega en AR y 3D. Los jugadores tendrán que destruir a los invasores del espacio que se les acerquen desde portales que se abren en el cielo y en los edificios. Luego, experimente el futuro de los deportes, comenzando con torneos de golf en vivo en asociación con Kintar, el desarrollador oficial de AR móvil de la gira de la PGA. Puede ver en qué conjunto están sus jugadores favoritos y obtener instrucciones de navegación sobre cómo llegar allí. También puede ver el seguimiento de la pelota y las estadísticas de los jugadores mientras camina por el campo. Lo siguiente son casos de uso útiles en movilidad que facilitan que las personas naveguen y se desplacen. Hay una serie de casos de uso que requieren precisión milimétrica, como necesitar ayuda para estacionar scooters, bicicletas o localizarlos. El año pasado, la línea de carga mejoró la precisión del estacionamiento a través de la API geoespacial para brindar una guía más clara para los pasajeros y una experiencia más limpia para caminar en las ciudades. Su resultado, mayor tranquilidad y estacionamiento más adecuado de scooters en las calles de la ciudad, lo que lleva a mejores relaciones con las comunidades a las que sirven los socios. Desde entonces, tanto el ave como la línea se han orientado a la solución a escala durante el último año. Por último, pero no menos importante, un impacto social. ¿Alguna vez te has preguntado cómo serían realmente los cambios urbanos en tu ciudad o barrio antes de ser construidos? ¿O quiénes fueron los pioneros que cambiaron tu ciudad y su cultura? Ahora puedes ver y sentir esos cambios en el mundo real. Comenzando con Gensler, ahora puede visualizar cómo serían los nuevos proyectos de ciudad para los desplazados. Con Adobe Arrow, pueden crear visualizaciones inmersivas de proyectos de vivienda a los que se puede acceder con un simple escaneo de código QR sin necesidad de descargar la aplicación. Con nuestros socios en Scavenger y Aurora, no solo puede aprender sobre las mujeres pioneras que hicieron contribuciones importantes a la sociedad, sino también experimentar sus historias en monumentos AR multisensoriales en ciudades de Alemania con su campaña haznos visibles. No puedo esperar a ver lo que creas cuando el mundo es tu lienzo. Volviendo a ti, Stavon. Gracias Val. El creador geoespacial está disponible hoy en Adobe Arrow, Geospatial Proolies y Unity, y en todos los dispositivos compatibles con AR core en Android e iOS, y próximamente habrá más herramientas. Comencemos con nuestros talleres para creadores geoespaciales usando Adobe Arrow o Unity. Creemos que el cambio profundo provocado por la realidad aumentada es que todos los lugares pueden ser aumentados. Cuando se aumenta el mundo físico, se redefine la forma en que las personas aprenden, crean, compran, obtienen información y juegan. Esperamos redefinir el futuro con usted. (es)\n"
          ]
        }
      ]
    },
    {
      "cell_type": "code",
      "source": [
        "# translate a spanish text to english text (by default)\n",
        "translation = translator.translate(txt, dest=\"ja\")\n",
        "print(f\"{translation.text} ({translation.dest})\")"
      ],
      "metadata": {
        "colab": {
          "base_uri": "https://localhost:8080/"
        },
        "id": "pXuAmNBCaAiM",
        "outputId": "f4f13e6e-b145-4e77-ae28-98f8a4e4f192"
      },
      "execution_count": 11,
      "outputs": [
        {
          "output_type": "stream",
          "name": "stdout",
          "text": [
            "こんにちは、AR プロダクトマネージャーの Stavon Silva です。AR エンジニアの Val O'Donnell と Adob​​e Arrow のアニメーション ディレクターの James Zachary が参加します。本日は、拡張現実と地理空間エクスペリエンスをより簡単に、より楽しく作成できるエキサイティングなニュースとツールを共有します。私たちは、拡張現実によって引き起こされる大きな変化は、すべての場所が没入型のコンテンツと体験で強化されることであると信じています。物理世界がデジタル コンテンツで拡張されると、人々が学び、創造し、買い物し、情報を入手し、遊ぶ方法が再定義されます。昨年、開発者が 87 か国で世界を中心としたエクスペリエンスを作成できるように、AR Core Geospatial API をリリースしました。私たちは、Google マップを通じて 15 年以上にわたる世界の理解を広げ、開発者がより没入型で、より豊かで、より便利な拡張現実エクスペリエンスを構築できるように支援しました。 Geospatial API は、Visual Positioning Service (VPS) に基づくグローバル ローカライゼーションへのアクセスを提供します。VPS は、2019 年以来 Google マップのライブ ビューを強化し、役立つ AR を利用した矢印とターンバイターン方式のルートを人々に提供しているのと同じテクノロジーです。このテクノロジーを使用すると、コンテンツを配置する表面をタップしたり見つけたりする必要がなく、拡張現実エクスペリエンスを数秒ですばやく視覚化できます。そして、Google が 10 年以上にわたって蓄積してきた地上画像のおかげで、私たちはすでに世界を完璧な詳細で地図化しています。そのため、AR Core Geospatial API を使用すると、コンテンツを世界にリモートで接続し、ユーザーをそこに誘導することができ、ストリート ビューがあるほぼすべての場所で、没入型の位置ベースの AR エクスペリエンスを作成できるようになります。 Geospatial API のリリース以来、私たちはローカリゼーション、パフォーマンス、アンカリングを改善するための新機能をリリースし続けてきました。たとえば、昨年初めに、単純な緯度と経度でコンテンツを地形上に正確に配置できるテレイン アンカーをリリースしました。また、Geospatial API の対象範囲を 100 か国以上に拡大したため、より多くの場所で AR コンテンツを構築して体験できるようになりました。最後に、私たちは AR Core Geospatial API Challenge などのグローバルなハッカソンを通じて皆さんと関わってきました。ゲーム、ローカルディスカバリ、ナビゲーションなど、さまざまなユースケースにわたって質の高いご提案をいただきありがとうございます。すでに気に入って使用しているツールで、Google Earth のような本物の 3D フォトリアリスティック キャンバスを通じて世界を拡張する機能を求めていると聞きました。本日、私たちは、まさにそれを実現するために、AR コアと Google マップ プラットフォームを活用した Geospatial Creator をリリースすることを発表できることを嬉しく思います。 Geospatial Creator を使用すると、開発者やクリエイターは、現実世界で体験できる没入型コンテンツで拡張および強化したい世界を簡単に視覚化できます。このような背景を念頭に置いて、早速本題に入りましょう。まずは、Geospatial Creator の機能を可能にするさまざまな構成要素について説明します。次に、その機能が、皆さんがよく知っているクリエイターおよび開発者のプラットフォームにどのように統合されているかを紹介します。また、その作成および開発プロセスがどのようなものであるかについても説明します。そして最後に、初期のパートナーがすでに地理空間クリエイターと連携して、幅広い業種やユースケースに取り組んでいることを共有します。 Geospatial Creator は、AR Core と Google Maps プラットフォームという 2 つの主要なプラットフォームを利用しています。まず、AR Core は、開発者にデジタル世界と物理世界をシームレスに融合させるツールを提供します。 AR Core を利用した Geospatial Creator には、クライアント側の地理空間 API と、ルーフトップ アンカーやシーン セマンティクスなどの新機能が含まれています。これらの地理空間ツールはすべて、Android と iOS の両方で世界にアンカーされたクロスプラットフォーム エクスペリエンスを構築するのに役立ちます。 Geospatial Creator で作成したものはすべて、リアルタイムのローカリゼーションと現実世界の拡張を通じて物理世界で体験できます。次に、Google の世界のデジタル ツインにアクセスする必要があります。 Geospatial Creators を使用すると、開発者とクリエイターは、Map Tiles API を介して Photo Realistic 3D タイルの実験的リリースの上に構築できるようになりました。 Google Earth は過去 20 年間、3D フォト リアル エクスペリエンスの先駆けとなってきましたが、開発者がそのコンポーネントを利用できるのは限られていました。本日より、Map Tiles API を使用すると、開発者は Google Earth で使用されているのと同じフォト リアリスティック 3D マップにアクセスできるようになり、Web、モバイル、デスクトップ、および自動車アプリケーション向けにカスタマイズされた没入型の 3D 視覚化エクスペリエンスを構築できるようになります。新しい AR コア地理空間 API の詳細については、「AR の新機能」というセッションをご参照ください。また、マップ タイル API の詳細については、「没入型 3D マップ エクスペリエンスの作成」というセッションをご参照ください。これらの機能を提供するために、クリエイターや開発者がよく知っていて愛用している既存のツールと連携したいと考えました。これを可能にするために、Geospatial Creator と Adob​​e および Unity の統合を発表できることを嬉しく思います。本日の時点で、Geospatial Creator は Adob​​e Aero Geospatial プレリリース、AR-Core 拡張機能および Geospatial Creator for Unity に統合されています。そのため、クリエイターと開発者の両方が、技術的なコーディング能力に関係なく、好みのプラットフォーム上で没入型アプリとエクスペリエンスをシームレスに統合して構築できます。これらの統合により、どこにいても世界規模の AR エクスペリエンスを想像、作成、展開できる完全なエンドツーエンドのワークフローが提供されます。ここでは、これらの各ツールについて説明します。まず、クリエイターツールパートナーである Adob​​e Aero について説明します。そのために、Adobe Aero のアニメーション ディレクターである James Zachary に話を渡し、Adobe Aero で地理空間エクスペリエンスの作成を今日から始める方法について話します。その後、Unity と現実世界のユースケースとパートナーシップについて取り上げます。ありがとう、デヴォン、そして皆さん、こんにちは。今日は、公園、美術館の入り口、近所のファッション ブティックなど、実際の世界の場所に固定された、拡張現実でインタラクティブな 3D ストーリーを作成する方法を説明できることを嬉しく思います。 Adobe Aero の新しい地理空間プレリリースを使用すると、コーディングを必要とせずに、これらの没入型 3D ストーリーを数分以内に作成できるため、クリエイターは視聴者のために作りたいエクスペリエンスに集中できるようになります。今日のこの例では、架空の地元のコーヒー ショップが、物理的な看板を作成したり、専門家を雇ったりすることなく、楽しくユニークな方法で毎週のペストリーを紹介し、おいしいドーナツの話題を生み出す方法を説明します。エクスペリエンスを構築するためだけの外部のクリエイティブまたは技術代理店。 Aero を使用すると、クリエイターはリンクや QR コードを使用してエクスペリエンスを簡単に作成し、共有できます。視聴者は、スポーツデバイスにアプリをインストールすることなく、その体験を視聴できると考えています。それでは、これがどのようにして可能なのかを理解してみましょう。 Adobe Aero Geospatial プレリリースの Geospatial Creator を使用すると、Google Maps Platforms 3D タイルを使用して Aero で現実世界を視覚化できます。検索フィールドに住所を入力するだけで、3D ジオメトリが取得され、エクスペリエンスに最適な場所に移動できます。その後、アセットをシーンにドラッグして好きな場所に配置するだけで、アセットを取り込むことができます。あなたのビジネスや小売店の場所がこのエクスペリエンスのアンカーポイントであると想像してください。 Aero を使用すると、その場で視聴者にデジタル ストーリーを伝えることができます。視聴者の注意を完全には捉えられない可能性がある従来の受動的デジタル メディアとは異なり、Aero を使用すると、シーンにインタラクティブ性を追加し、トリガーやアクションを通じてシーンを生き生きとさせることができます。また、行動喚起を追加して、ランディング ページや最新のオファーへのリンクなど、エクスペリエンス内から任意の URL を開くこともできます。今では、アプリをダウンロードしてインストールして表示したり体験したりする人は誰もいません。我々はすべてそれを知っている。 Adobe Aero を使用すると、視聴者はその必要がなくなります。 Aero では、デバイスのスポーツを所有している誰とでも自分のエクスペリエンスをすぐに共有でき、そのカスタマイズ可能性を簡単かつ即時に共有できます。視聴者があなたのエクスペリエンスを確認するために必要なのは、指定された場所にいるときに QR コードをスキャンするか、リンクをクリックすることだけです。エクスペリエンスはすぐにローカライズされて視聴者の前に表示されます。これが、企業やクリエイターが視聴者と関わることを可能にするストーリー メディアとしていかに強力であるかがわかりました。 Adobe Aero の us spatial プレリリースの地理空間クリエイターを使用して、インタラクティブな 3D 作品を構築して共有するのは非常に簡単です。私たちは、AR エクスペリエンスは直感的かつ簡単に作成でき、完全にカスタマイズ可能で深い没入型であるべきであり、アプリをインストールすることなく視聴者が視聴できる必要があると考えています。それでは、ヴァルさんに引き継ぎます。ありがとう、ジェームス。私たちは、これらの機能をより多くのユーザーに拡張できることに非常に興奮しており、地理空間クリエーターを使用して Adob​​e Aero で作成したものを見るのが待ちきれません。開発者の皆様には、AR コア拡張機能と Unity 用地理空間クリエイター機能を使用して、地理空間クリエイター機能を Unity SDK に導入できることを嬉しく思います。 AR オブジェクトに楽しい動作を追加し、素晴らしい AR エクスペリエンスを作成する Unity の強力なプラットフォームを気に入っていただいていることを私たちは知っています。これにより、地理空間クリエイターと Unity は、以前は不可能だった世界規模のエクスペリエンスを作成できるようになります。私たちの目標は、創作を可能にする世界レベルのエディターを提供することです。これは、Google Earth 上で行うのと同じように、場所を選択し、3D ジオメトリを取得し、空間を飛行することによって行われます。これらはすべて、Google マップ プラットフォームのマップ タイル API を利用しています。この周囲のシーンからインスピレーションを得て、作成したり実験したりしながら空間をナビゲートできます。何を拡張するかを決定したら、コンテンツをシーンに固定することができ、必要なすべての地理空間座標が組み込まれます。この選択した場所の緯度、経度、高度、回転、および共旋を識別するために追加の手順を行う必要はもうありません。現実世界があなたのキャンバスとなり、遊んだり拡張したりできます。私たちはあなたのためにあらゆる努力をします。次に、現実の世界で自分の作品に命を吹き込みたいと考えています。 Android または iOS モバイル アプリを使用して外出すると、ユーザーは AR コア地理空間 API を利用して作成した作品をすばやくローカライズして体験できます。地理空間クリエイターは、堅牢かつ正確で、世界を魅了する豊かな没入型エクスペリエンスを構築することが、かつてないほど簡単になりました。世界はあなたのキャンバスです。どのような魔法を生み出すか楽しみです。 2 つのワークショップ セッションのチュートリアルに参加してください。では、世界を魅了するコンテンツを作成するツールを手に入れたところで、何をすべきでしょうか?私たちは、さまざまな業界のパートナーの取り組みに非常に感銘を受けています。今日は、4 つのアプリケーションとユースケースに焦点を当てます。私たちの最初の分野はローカルディスカバリーです。地理空間クリエーターのおかげで、開発者とクリエイターは、ユーザーが観光地、地元のアーティスト、またはショッピング プロモーションについて学ぶのに役立つ、世界中の都市全体で没入型のエクスペリエンスを作成することに集中できます。たとえば、シンガポール観光局は Unity と StreetScape Geometry を使用して、Visit Singapore アプリで没入型のガイド付きツアーを作成しました。 3D マスコットのメルルは、拡張現実を使用して観光スポットに訪問者を案内し、ランドマーク、店舗、歴史的建造物に命を吹き込みます。したがって、観光客は新しい楽しい方法で街を体験することができます。私たちはギャップとマテルと提携して、タイムズスクエア ギャップ ストアを拡張現実を備えた象徴的なギャップとバービー体験に変えています。地理空間クリエーターと Adob​​e Arrow 地理空間プレリリースで作成されたファンは、今月後半に登場する新しいギャップとバービーの製品ラインへのアプリレスなビジュアル スニーク ピークを通じて、このエキサイティングなコラボレーションを簡単に体験できます。私たちは Google Arts and Culture および Global Street Art と協力して、ロンドン、メキシコシティ、ロサンゼルスのストリート アーティストを厳選し、アートに命を吹き込み、建物全体を占領しました。アーティストは地理空間クリエーターと Adob​​e Arrow を使用してエクスペリエンスを作成しました。簡単な導入のおかげで、ユーザーは QR コードをスキャンするだけで、アプリのダウンロードを必要とせずにインタラクティブな仮想アート作品のロックを解除できます。次は没入型エンターテイメントです。ゲーム、ライブスポーツ、エンターテインメントの未来がここにあります。ゲームから始めて、Google が Tito と提携して、オリジナルのリリースから 45 年後にスペースインベーダーの世界防衛を立ち上げることを発表できることを嬉しく思います。このゲームはオリジナルのゲームプレイに触発されていますが、AR と 3D でプレイされます。プレイヤーは空や建物に開くポータルから襲い来る宇宙侵略者を撃破しなければなりません。次に、PGA ツアーの公式モバイル AR 開発者である Kintar と提携したライブ ゴルフ トーナメントから始まる、スポーツの未来を体験してください。お気に入りのプレイヤーがどの全体にいるのかを確認したり、そこに到達する方法についてのナビゲーション指示を表示したりできます。コースを歩きながら、ボールの追跡や選手の統計情報を表示することもできます。次に、人々の移動や移動を容易にするモビリティ全体の役立つ使用例を紹介します。スクーターや自転車の駐車や位置確認のサポートが必要な場合など、ピンポイントの精度が必要なユースケースが数多くあります。昨年、Burberry Line は地理空間 API を介して駐車の精度を向上させ、ライダーにより明確なガイダンスを提供し、都市内のよりクリーンな道路内歩行体験を提供しました。その結果、より大きな安心感が得られ、街路でスクーターをより適切に駐車できるようになり、パートナーがサービスを提供するコミュニティとのより良い関係につながります。それ以来、鳥とラインの両方が、過去 1 年間にわたってソリューションの規模を拡大することを目指してきました。最後になりましたが、社会的影響です。あなたの街や近隣地域が建設される前に、実際にどのような都市変化が起こるのか考えたことはありますか?あるいはあなたの街とその文化を変えた先駆者は誰ですか?現実世界でそれらの変化を見て、感じることができるようになりました。ゲンスラーを始めとして、新しい都市プロジェクトが避難民にとってどのようなものになるかを視覚化できるようになりました。 Adobe Arrow を使用すると、アプリのダウンロードを必要とせず、簡単な QR コード スキャンでアクセスできる住宅プロジェクトの没入型ビジュアライゼーションを作成できます。スカベンジャーとオーロラのパートナーと協力すれば、社会に重要な貢献をした女性先駆者について学ぶだけでなく、ドイツの各都市にある多感覚 AR モニュメントで彼らのストーリーを体験して、彼らの「私たちを可視化」キャンペーンを行うことができます。世界があなたのキャンバスになったとき、あなたが何を創造するのかを見るのが待ちきれません。話を戻します、スタボン。ありがとう、ヴァル。 Geospatial Creator は現在、Adobe Arrow、Geospatial Proolies、Unity で利用できるほか、Android および iOS 上の AR コアがサポートされているすべてのデバイスで利用でき、さらに多くのツールが近日公開される予定です。 Adobe Arrow または Unity を使用した地理空間クリエイターのワークショップから始めましょう。私たちは、拡張現実によって引き起こされる大きな変化は、あらゆる場所が拡張可能であると信じています。物理世界が拡張されると、人々が学び、創造し、買い物し、情報を入手し、遊ぶ方法が再定義されます。あなたと一緒に未来を再定義できることを楽しみにしています。 (ja)\n"
          ]
        }
      ]
    },
    {
      "cell_type": "markdown",
      "source": [
        "Google translation lib is only good for left-to-right standard languages. Didn't work for ar, he, ja, etc"
      ],
      "metadata": {
        "id": "pDes98Jya6-U"
      }
    },
    {
      "cell_type": "markdown",
      "source": [
        "Spacy has each lang model to be installed..so instead trying Moses"
      ],
      "metadata": {
        "id": "mQfIebi8bo0N"
      }
    },
    {
      "cell_type": "code",
      "source": [
        "import locale\n",
        "def getpreferredencoding(do_setlocale = True):\n",
        "    return \"UTF-8\"\n",
        "locale.getpreferredencoding = getpreferredencoding"
      ],
      "metadata": {
        "id": "yXjTI0xGc8pG"
      },
      "execution_count": 17,
      "outputs": []
    },
    {
      "cell_type": "code",
      "source": [
        "# To install the English language model\n",
        "!python -m spacy download en_core_web_sm\n",
        "\n",
        "# To install the Spanish language model\n",
        "!python -m spacy download ar_core_web_sm"
      ],
      "metadata": {
        "id": "gyFD2oUPW2QT"
      },
      "execution_count": null,
      "outputs": []
    },
    {
      "cell_type": "code",
      "source": [
        "# Load the language models\n",
        "nlp_en = spacy.load(\"en_core_web_sm\")\n",
        "nlp_ar = spacy.load(\"ar_core_web_sm\")\n",
        "\n",
        "# Define the text to be translated\n",
        "text = txt\n",
        "\n",
        "# Parse the text using the English language model\n",
        "doc = nlp_en(text)\n",
        "\n",
        "# Use the translate method to translate the text\n",
        "translated_doc = doc.translate(to_lang=\"ar\")\n",
        "\n",
        "# Print the translated text\n",
        "print(translated_doc.text) "
      ],
      "metadata": {
        "id": "uB__ZjwUbNEb"
      },
      "execution_count": null,
      "outputs": []
    },
    {
      "cell_type": "code",
      "source": [
        "# First, install the moses library and translation server\n",
        "!pip install moses\n",
        "!apt-get install -y moses"
      ],
      "metadata": {
        "id": "4dpU1Ktgbffc"
      },
      "execution_count": null,
      "outputs": []
    },
    {
      "cell_type": "markdown",
      "source": [
        "Spacy and Moses had problems with ar. Have to dig deeper"
      ],
      "metadata": {
        "id": "iu0YMjnxf6v4"
      }
    },
    {
      "cell_type": "code",
      "source": [
        "!pip install translate"
      ],
      "metadata": {
        "id": "233FmaolfO9p"
      },
      "execution_count": null,
      "outputs": []
    },
    {
      "cell_type": "code",
      "source": [
        "from translate import Translator\n",
        "translator= Translator(to_lang=\"ar\")\n",
        "print(translator.translate(txt[:400]))\n"
      ],
      "metadata": {
        "colab": {
          "base_uri": "https://localhost:8080/"
        },
        "id": "2YEkuouWdYXE",
        "outputId": "f8e1c696-6dcb-4c6a-8165-6531bf6ce29f"
      },
      "execution_count": 28,
      "outputs": [
        {
          "output_type": "stream",
          "name": "stdout",
          "text": [
            "مرحبًا، أنا ستافون سيلفا، مدير المنتج في AR، وانضم إلي فال أودونيل، مهندس في AR وجيمس زاكاري، مدير الرسوم المتحركة على Adobe Arrow. اليوم لدينا أخبار وأدوات مثيرة للمشاركة من شأنها أن تجعل الواقع المعزز والتجارب الجغرافية المكانية أسهل وأكثر متعة لخلق. نعتقد أن التحول العميق الناجم عن الواقع المعزز هو أنه يمكن تعزيز جميع الأماكن باستخدام\n"
          ]
        }
      ]
    },
    {
      "cell_type": "markdown",
      "source": [
        "Even worse, the txt is limitted and the quality is similar to Google"
      ],
      "metadata": {
        "id": "6IjCCN0_gXxJ"
      }
    },
    {
      "cell_type": "code",
      "source": [],
      "metadata": {
        "id": "ZSwseQWvfhzh"
      },
      "execution_count": null,
      "outputs": []
    }
  ]
}