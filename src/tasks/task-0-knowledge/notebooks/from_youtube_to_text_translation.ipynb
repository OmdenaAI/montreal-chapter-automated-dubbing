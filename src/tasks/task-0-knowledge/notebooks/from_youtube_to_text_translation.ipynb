{
  "nbformat": 4,
  "nbformat_minor": 0,
  "metadata": {
    "colab": {
      "provenance": [],
      "gpuType": "T4",
      "toc_visible": true
    },
    "kernelspec": {
      "name": "python3",
      "display_name": "Python 3"
    },
    "language_info": {
      "name": "python"
    },
    "accelerator": "GPU",
    "gpuClass": "standard"
  },
  "cells": [
    {
      "cell_type": "code",
      "execution_count": 1,
      "metadata": {
        "colab": {
          "base_uri": "https://localhost:8080/"
        },
        "id": "HNVwtZNiwHtc",
        "outputId": "40715d9e-bbe8-462c-be02-424bf187f54a"
      },
      "outputs": [
        {
          "output_type": "stream",
          "name": "stdout",
          "text": [
            "Drive already mounted at /content/drive; to attempt to forcibly remount, call drive.mount(\"/content/drive\", force_remount=True).\n"
          ]
        }
      ],
      "source": [
        "# Mount Google Drive\n",
        "from google.colab import drive\n",
        "drive.mount('/content/drive')"
      ]
    },
    {
      "cell_type": "markdown",
      "source": [
        "## Extract Videos from Youtube"
      ],
      "metadata": {
        "id": "ac47MfyoeG4D"
      }
    },
    {
      "cell_type": "code",
      "source": [
        "# Install pytube from the source with pip:\n",
        "!pip install git+https://github.com/pytube/pytube\n",
        "\n",
        "# Alternative you can use !pip install pytube"
      ],
      "metadata": {
        "id": "UnIeUU7fSdE2"
      },
      "execution_count": null,
      "outputs": []
    },
    {
      "cell_type": "code",
      "source": [
        "from pytube import YouTube\n",
        "\n",
        "# Download a Youtube Video\n",
        "YouTube('https://www.youtube.com/shorts/Iqy6Js-m9P8').streams.first().download()\n",
        "yt = YouTube('https://www.youtube.com/shorts/Iqy6Js-m9P8')\n",
        "yt.streams.filter(progressive=True, file_extension='mp4') \\\n",
        ".order_by('resolution').desc().first().download()"
      ],
      "metadata": {
        "colab": {
          "base_uri": "https://localhost:8080/",
          "height": 35
        },
        "id": "CS6rCq91SmYX",
        "outputId": "d8ec39af-0db6-4e3c-8774-835f86db0485"
      },
      "execution_count": 3,
      "outputs": [
        {
          "output_type": "execute_result",
          "data": {
            "text/plain": [
              "'/content/Why We Need To Laugh More Every Day @TED ted shorts.mp4'"
            ],
            "application/vnd.google.colaboratory.intrinsic+json": {
              "type": "string"
            }
          },
          "metadata": {},
          "execution_count": 3
        }
      ]
    },
    {
      "cell_type": "markdown",
      "source": [
        "## Extract Audio from Video"
      ],
      "metadata": {
        "id": "I4buFEgWlClG"
      }
    },
    {
      "cell_type": "code",
      "source": [
        "# MoviePy can read and write all the most common audio and video formats\n",
        "!pip install moviepy"
      ],
      "metadata": {
        "id": "ZSwseQWvfhzh"
      },
      "execution_count": null,
      "outputs": []
    },
    {
      "cell_type": "code",
      "source": [
        "import moviepy.editor\n",
        "\n",
        "# Load the Video (add name)\n",
        "video = moviepy.editor.VideoFileClip(\"/content/Why We Need To Laugh More Every Day @TED ted shorts.mp4\")"
      ],
      "metadata": {
        "id": "mJSi-FGhXeci"
      },
      "execution_count": 5,
      "outputs": []
    },
    {
      "cell_type": "code",
      "source": [
        "# Check if video has audio, among other information\n",
        "print(video.reader.infos)"
      ],
      "metadata": {
        "colab": {
          "base_uri": "https://localhost:8080/"
        },
        "id": "E7TxL0TGZ1Z1",
        "outputId": "4af3800a-75ac-48d6-a600-efa59bf3f4c1"
      },
      "execution_count": 6,
      "outputs": [
        {
          "output_type": "stream",
          "name": "stdout",
          "text": [
            "{'duration': 38.85, 'video_found': True, 'video_size': [720, 1280], 'video_fps': 23.976023976023978, 'video_nframes': 932, 'video_duration': 38.85, 'video_rotation': 0, 'audio_found': True, 'audio_fps': 44100}\n"
          ]
        }
      ]
    },
    {
      "cell_type": "code",
      "source": [
        "#Extract the Audio\n",
        "audio = video.audio\n",
        "\n",
        "#Export the Audio to mp3 format\n",
        "audio.write_audiofile(\"Audio.mp3\")"
      ],
      "metadata": {
        "colab": {
          "base_uri": "https://localhost:8080/"
        },
        "id": "o6I8OGcVXynZ",
        "outputId": "7b25b1ad-503f-49ff-9415-7f2fb7c74d30"
      },
      "execution_count": 7,
      "outputs": [
        {
          "output_type": "stream",
          "name": "stdout",
          "text": [
            "MoviePy - Writing audio in Audio.mp3\n"
          ]
        },
        {
          "output_type": "stream",
          "name": "stderr",
          "text": [
            "                                                                   "
          ]
        },
        {
          "output_type": "stream",
          "name": "stdout",
          "text": [
            "MoviePy - Done.\n"
          ]
        },
        {
          "output_type": "stream",
          "name": "stderr",
          "text": [
            "\r"
          ]
        }
      ]
    },
    {
      "cell_type": "markdown",
      "source": [
        "## Extract Text from Audio"
      ],
      "metadata": {
        "id": "IrwZgDyfoCEO"
      }
    },
    {
      "cell_type": "code",
      "source": [
        "# Install whisper for speech recognition \n",
        "!pip install git+https://github.com/openai/whisper.git\n",
        "\n",
        "# Install ffmpeg for video and audio processing\n",
        "!sudo apt update && sudo apt install ffmpeg"
      ],
      "metadata": {
        "id": "kZMy_27cXyrk"
      },
      "execution_count": null,
      "outputs": []
    },
    {
      "cell_type": "code",
      "source": [
        "import torch\n",
        "\n",
        "# Assigning \"cuda\" (speed up processes) or \"cpu\"\n",
        "torch.cuda.is_available()\n",
        "DEVICE = \"cuda\" if torch.cuda.is_available() else \"cpu\""
      ],
      "metadata": {
        "id": "ce8O6gX5o1dP"
      },
      "execution_count": 9,
      "outputs": []
    },
    {
      "cell_type": "code",
      "source": [
        "DEVICE "
      ],
      "metadata": {
        "colab": {
          "base_uri": "https://localhost:8080/",
          "height": 35
        },
        "id": "siWUlubgpWkw",
        "outputId": "9f9d92b0-b866-409f-d6e5-bef601d43acb"
      },
      "execution_count": 10,
      "outputs": [
        {
          "output_type": "execute_result",
          "data": {
            "text/plain": [
              "'cuda'"
            ],
            "application/vnd.google.colaboratory.intrinsic+json": {
              "type": "string"
            }
          },
          "metadata": {},
          "execution_count": 10
        }
      ]
    },
    {
      "cell_type": "code",
      "source": [
        "import whisper\n",
        "import numpy as np\n",
        "\n",
        "model = whisper.load_model(\"base\", device=DEVICE)\n",
        "print(\n",
        "    f\"Model is {'multilingual' if model.is_multilingual else 'English-only'} \"\n",
        "    f\"and has {sum(np.prod(p.shape) for p in model.parameters()):,} parameters.\"\n",
        ")"
      ],
      "metadata": {
        "colab": {
          "base_uri": "https://localhost:8080/"
        },
        "id": "V5kN8kUqb3uk",
        "outputId": "9ad2110f-e18e-480a-cb57-c0354a4c71f6"
      },
      "execution_count": 11,
      "outputs": [
        {
          "output_type": "stream",
          "name": "stdout",
          "text": [
            "Model is multilingual and has 71,825,920 parameters.\n"
          ]
        }
      ]
    },
    {
      "cell_type": "code",
      "source": [
        "# Audio preprocessing and saved in model\n",
        "\n",
        "audio = whisper.load_audio(\"/content/Audio.mp3\")\n",
        "audio = whisper.pad_or_trim(audio)\n",
        "mel = whisper.log_mel_spectrogram(audio).to(model.device)"
      ],
      "metadata": {
        "id": "FFvijLpxcCwu"
      },
      "execution_count": 12,
      "outputs": []
    },
    {
      "cell_type": "code",
      "source": [
        "# Language detection\n",
        "_, probs = model.detect_language(mel)\n",
        "print(f\"Detected language: {max(probs, key=probs.get)}\")"
      ],
      "metadata": {
        "colab": {
          "base_uri": "https://localhost:8080/"
        },
        "id": "l5c7jOVtcCy8",
        "outputId": "043eee52-1c75-4789-c600-ca17e36d6146"
      },
      "execution_count": 13,
      "outputs": [
        {
          "output_type": "stream",
          "name": "stdout",
          "text": [
            "Detected language: en\n"
          ]
        }
      ]
    },
    {
      "cell_type": "code",
      "source": [
        "# Text decoding\n",
        "options = whisper.DecodingOptions(language=\"en\", without_timestamps=True)\n",
        "result = whisper.decode(model, mel, options)\n",
        "print(result.text)"
      ],
      "metadata": {
        "colab": {
          "base_uri": "https://localhost:8080/"
        },
        "id": "MmnBY0dhcC01",
        "outputId": "26aee6e6-decc-41b4-be41-bbdf08854b51"
      },
      "execution_count": 22,
      "outputs": [
        {
          "output_type": "stream",
          "name": "stdout",
          "text": [
            "When we laugh, our brains release a cocktail of hormones. So we release endorphins, giving us a similar feeling to a runner's high. We lower our cortisol, making us feel calmer, and we release dopamine. The same hormone released during sex, making us feel more bonded. So, in essence, as far as our brains are concerned, laughing is like exercising, meditating, and having sex. At the same time. Laughing together makes us feel more connected. It floods our brains with the same hormones,\n"
          ]
        }
      ]
    },
    {
      "cell_type": "code",
      "source": [
        "# Text transcription\n",
        "result = model.transcribe(\"/content/Audio.mp3\")\n",
        "print(result[\"text\"])"
      ],
      "metadata": {
        "colab": {
          "base_uri": "https://localhost:8080/"
        },
        "id": "vmcvUNNicn_e",
        "outputId": "021dad8b-46d2-4178-d675-fe8f32a2fe89"
      },
      "execution_count": 15,
      "outputs": [
        {
          "output_type": "stream",
          "name": "stdout",
          "text": [
            " When we laugh, our brains release a cocktail of hormones. So we release endorphins, giving us a similar feeling to a runner's high. We lower our cortisol, making us feel calmer, and we release dopamine. The same hormone released during sex, making us feel more bonded. So in essence, as far as our brains are concerned, laughing is like exercising, meditating, and having sex, at the same time. Laughing together makes us feel more connected. It floods our brains with the same hormones associated with love. And who doesn't want to feel more joy and love in our lives? Where a humor exists, love is not far behind.\n"
          ]
        }
      ]
    },
    {
      "cell_type": "code",
      "source": [
        "# Saving text file\n",
        "with open('text.txt', 'w') as f:\n",
        "    f.write(result[\"text\"])"
      ],
      "metadata": {
        "id": "wrqYEbffcyX3"
      },
      "execution_count": 17,
      "outputs": []
    },
    {
      "cell_type": "markdown",
      "source": [
        "## Text Translation"
      ],
      "metadata": {
        "id": "EML4OGrAc3c5"
      }
    },
    {
      "cell_type": "code",
      "source": [
        "# Install Googletrans\n",
        "!pip install googletrans"
      ],
      "metadata": {
        "id": "KXYdisz8c3sg"
      },
      "execution_count": null,
      "outputs": []
    },
    {
      "cell_type": "code",
      "source": [
        "# Initiate Translator\n",
        "from googletrans import Translator, constants\n",
        "from pprint import pprint\n",
        "\n",
        "translator = Translator()"
      ],
      "metadata": {
        "id": "xoXUgCszc9CL"
      },
      "execution_count": 22,
      "outputs": []
    },
    {
      "cell_type": "code",
      "source": [
        "# Import text\n",
        "\n",
        "txt = \"default\"\n",
        "with open('text.txt', 'r') as f:\n",
        "  txt = f.read()\n",
        "\n",
        "print(txt)"
      ],
      "metadata": {
        "colab": {
          "base_uri": "https://localhost:8080/"
        },
        "id": "ugB7ayuzc9EY",
        "outputId": "7384a4bc-f1af-4a28-8fdf-63718c0314e1"
      },
      "execution_count": 27,
      "outputs": [
        {
          "output_type": "stream",
          "name": "stdout",
          "text": [
            " When we laugh, our brains release a cocktail of hormones. So we release endorphins, giving us a similar feeling to a runner's high. We lower our cortisol, making us feel calmer, and we release dopamine. The same hormone released during sex, making us feel more bonded. So in essence, as far as our brains are concerned, laughing is like exercising, meditating, and having sex, at the same time. Laughing together makes us feel more connected. It floods our brains with the same hormones associated with love. And who doesn't want to feel more joy and love in our lives? Where a humor exists, love is not far behind.\n"
          ]
        }
      ]
    },
    {
      "cell_type": "code",
      "source": [
        "# translate a english text to spanish\n",
        "\n",
        "translation = translator.translate(txt, dest=\"es\")\n",
        "print(f\"{translation.text} ({translation.dest})\")"
      ],
      "metadata": {
        "colab": {
          "base_uri": "https://localhost:8080/"
        },
        "id": "pLb05so-c9Gd",
        "outputId": "87b33910-1822-4c5a-997d-cc6591eabf7f"
      },
      "execution_count": 25,
      "outputs": [
        {
          "output_type": "stream",
          "name": "stdout",
          "text": [
            "Cuando nos reímos, nuestro cerebro libera un cóctel de hormonas. Entonces liberamos endorfinas, dándonos una sensación similar a la de un corredor. Bajamos nuestro cortisol haciéndonos sentir más tranquilos y liberamos dopamina. La misma hormona liberada durante el sexo, haciéndonos sentir más unidos. Entonces, en esencia, en lo que respecta a nuestro cerebro, reír es como hacer ejercicio, meditar y tener relaciones sexuales al mismo tiempo. Reír juntos nos hace sentir más conectados. Inunda nuestros cerebros con las mismas hormonas asociadas con el amor. ¿Y quién no quiere sentir más alegría y amor en nuestras vidas? Donde existe el humor, el amor no se queda atrás. (es)\n"
          ]
        }
      ]
    }
  ]
}