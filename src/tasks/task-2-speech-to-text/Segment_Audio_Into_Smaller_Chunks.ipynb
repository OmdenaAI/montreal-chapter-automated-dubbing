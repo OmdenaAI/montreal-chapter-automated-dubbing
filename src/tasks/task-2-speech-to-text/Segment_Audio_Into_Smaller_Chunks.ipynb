{
  "nbformat": 4,
  "nbformat_minor": 0,
  "metadata": {
    "colab": {
      "provenance": [],
      "gpuType": "T4"
    },
    "kernelspec": {
      "name": "python3",
      "display_name": "Python 3"
    },
    "language_info": {
      "name": "python"
    },
    "accelerator": "GPU"
  },
  "cells": [
    {
      "cell_type": "markdown",
      "source": [
        "# Mount on Drive"
      ],
      "metadata": {
        "id": "LPcjA8ye5tJL"
      }
    },
    {
      "cell_type": "code",
      "execution_count": 1,
      "metadata": {
        "colab": {
          "base_uri": "https://localhost:8080/"
        },
        "id": "jbzIA90Lzq10",
        "outputId": "8d4e4a1b-4600-48cb-8549-4feddc64c3cf"
      },
      "outputs": [
        {
          "output_type": "stream",
          "name": "stdout",
          "text": [
            "Mounted at /content/drive\n"
          ]
        }
      ],
      "source": [
        "from google.colab import drive\n",
        "drive.mount('/content/drive')"
      ]
    },
    {
      "cell_type": "markdown",
      "source": [
        "# Install Libraries"
      ],
      "metadata": {
        "id": "KSUIIuyf5xr5"
      }
    },
    {
      "cell_type": "code",
      "source": [
        "!pip install librosa"
      ],
      "metadata": {
        "id": "J8Hoeb_U0o0o"
      },
      "execution_count": null,
      "outputs": []
    },
    {
      "cell_type": "code",
      "source": [
        "!pip install soundfile"
      ],
      "metadata": {
        "id": "XtBytdf01xr9"
      },
      "execution_count": null,
      "outputs": []
    },
    {
      "cell_type": "code",
      "source": [
        "!pip install pydub"
      ],
      "metadata": {
        "id": "s68KiCG78NZD"
      },
      "execution_count": null,
      "outputs": []
    },
    {
      "cell_type": "code",
      "source": [
        "!pip install moviepy"
      ],
      "metadata": {
        "id": "9L2C6lzQ8crW"
      },
      "execution_count": null,
      "outputs": []
    },
    {
      "cell_type": "markdown",
      "source": [
        "# Import Libraries"
      ],
      "metadata": {
        "id": "3iXdf-Sd53Yx"
      }
    },
    {
      "cell_type": "code",
      "source": [
        "import librosa\n",
        "import soundfile as sf\n",
        "\n",
        "from pydub import AudioSegment\n",
        "\n",
        "from moviepy.editor import *"
      ],
      "metadata": {
        "id": "prHD5CXh4sjs"
      },
      "execution_count": 20,
      "outputs": []
    },
    {
      "cell_type": "markdown",
      "source": [
        "# Extract Audio Chunks"
      ],
      "metadata": {
        "id": "6eiuXxUk56b6"
      }
    },
    {
      "cell_type": "markdown",
      "source": [
        "## Librosa Library"
      ],
      "metadata": {
        "id": "kTvcP5qw9ZzV"
      }
    },
    {
      "cell_type": "code",
      "source": [
        "# Get duration of the audio\n",
        "\n",
        "audio_path = \"/content/test_audio/httpswww.youtube.comwatchv=Dg5VXhpkouQ.mp3\"\n",
        "audio, sr = librosa.load(audio_path, sr=None)\n",
        "librosa.get_duration(y=audio, sr=sr)"
      ],
      "metadata": {
        "colab": {
          "base_uri": "https://localhost:8080/"
        },
        "id": "QROUVV514taY",
        "outputId": "62f4860f-ae5c-4498-de88-6973d3db9f7e"
      },
      "execution_count": 9,
      "outputs": [
        {
          "output_type": "execute_result",
          "data": {
            "text/plain": [
              "217.29"
            ]
          },
          "metadata": {},
          "execution_count": 9
        }
      ]
    },
    {
      "cell_type": "code",
      "source": [
        "# Under duration, chnange the desired duration of the chunks\n",
        "\n",
        "def segment_audio(audio_path, duration):\n",
        "    # Load the audio file\n",
        "    audio, sr = librosa.load(audio_path, sr=None)  ##  (default sr=22050).To preserve the native sampling rate of the file, use sr=None.\n",
        "\n",
        "    # Calculate the number of samples per chunk based on the desired duration\n",
        "    samples_per_chunk = int(duration * sr)\n",
        "\n",
        "    # Calculate the total number of chunks\n",
        "    total_chunks = len(audio) // samples_per_chunk\n",
        "\n",
        "    # Segment the audio into smaller chunks\n",
        "    audio_chunks = [\n",
        "        audio[i * samples_per_chunk : (i + 1) * samples_per_chunk]\n",
        "        for i in range(total_chunks)\n",
        "    ]\n",
        "\n",
        "    return audio_chunks, sr\n",
        "\n",
        "# Example usage\n",
        "audio_path = \"/content/test_audio/httpswww.youtube.comwatchv=Dg5VXhpkouQ.mp3\"\n",
        "duration = 20  # Duration of each audio chunk in seconds\n",
        "\n",
        "segments, sr = segment_audio(audio_path, duration)\n",
        "\n",
        "# segments is a list of audio chunks, where each chunk has a duration of 20 seconds\n",
        "for i, segment in enumerate(segments):\n",
        "    segment_path = f\"segment_{i}.mp3\"  # Output file path for the segment\n",
        "    sf.write(segment_path, segment, sr)\n"
      ],
      "metadata": {
        "id": "QmGVWx7qzrg1"
      },
      "execution_count": 8,
      "outputs": []
    },
    {
      "cell_type": "markdown",
      "source": [
        "## Pydub Library"
      ],
      "metadata": {
        "id": "UXnldtaF9jC3"
      }
    },
    {
      "cell_type": "code",
      "source": [
        "# Get duration of the audio\n",
        "\n",
        "def get_audio_duration(audio_file):\n",
        "    audio = AudioSegment.from_file(audio_file)\n",
        "    duration = audio.duration_seconds\n",
        "    return duration\n",
        "\n",
        "# Example usage\n",
        "audio_file = \"/content/test_audio/httpswww.youtube.comwatchv=Dg5VXhpkouQ.mp3\"\n",
        "duration = get_audio_duration(audio_file)\n",
        "print(f\"Audio duration: {duration} seconds\")\n"
      ],
      "metadata": {
        "colab": {
          "base_uri": "https://localhost:8080/"
        },
        "id": "swecObWX82d2",
        "outputId": "a49ca938-2fe5-4de2-ca92-2741842a3e45"
      },
      "execution_count": 12,
      "outputs": [
        {
          "output_type": "stream",
          "name": "stdout",
          "text": [
            "Audio duration: 217.29 seconds\n"
          ]
        }
      ]
    },
    {
      "cell_type": "code",
      "source": [
        "def extract_audio_in_chunks(audio_file, chunk_duration):\n",
        "    audio = AudioSegment.from_file(audio_file)\n",
        "    duration = len(audio)\n",
        "    chunks = []\n",
        "    start = 0\n",
        "    end = chunk_duration * 1000  # Convert to milliseconds\n",
        "    while end <= duration:\n",
        "        chunk = audio[start:end]\n",
        "        chunks.append(chunk)\n",
        "        start += chunk_duration * 1000\n",
        "        end += chunk_duration * 1000\n",
        "    return chunks\n",
        "\n",
        "# Example usage\n",
        "audio_file = \"/content/test_audio/httpswww.youtube.comwatchv=Dg5VXhpkouQ.mp3\"\n",
        "chunk_duration = 60  # seconds\n",
        "chunks = extract_audio_in_chunks(audio_file, chunk_duration)\n",
        "for i, chunk in enumerate(chunks):\n",
        "    chunk.export(f'output_chunk_{i}.mp3', format='mp3')\n"
      ],
      "metadata": {
        "id": "yenvBNFK8E5F"
      },
      "execution_count": 11,
      "outputs": []
    },
    {
      "cell_type": "markdown",
      "source": [
        "## Moviepy Library"
      ],
      "metadata": {
        "id": "m2691rIe9WjE"
      }
    },
    {
      "cell_type": "code",
      "source": [
        "# Get duration of the audio\n",
        "\n",
        "audio_file = AudioFileClip(\"/content/test_audio/httpswww.youtube.comwatchv=Dg5VXhpkouQ.mp3\")\n",
        "audio_duration = audio_file.duration\n",
        "\n",
        "print(f\"Audio Duration: {audio_duration} seconds\")\n"
      ],
      "metadata": {
        "colab": {
          "base_uri": "https://localhost:8080/"
        },
        "id": "DiV_TrZ1Aly_",
        "outputId": "d1e0be84-6213-46b7-efcf-7ee9b9a9903e"
      },
      "execution_count": 23,
      "outputs": [
        {
          "output_type": "stream",
          "name": "stdout",
          "text": [
            "Audio Duration: 217.34 seconds\n"
          ]
        }
      ]
    },
    {
      "cell_type": "code",
      "source": [
        "def extract_audio_chunks(audio, duration, start):\n",
        "    chunks = []\n",
        "    current_time = start\n",
        "\n",
        "    while current_time <= audio.duration:\n",
        "        end_time = min(current_time + duration, audio.duration)\n",
        "        chunk = audio.subclip(current_time, end_time)\n",
        "        chunks.append(chunk)\n",
        "\n",
        "        current_time += duration\n",
        "\n",
        "    return chunks\n",
        "\n",
        "\n",
        "# Example usage\n",
        "audio_file = AudioFileClip(\"/content/test_audio/httpswww.youtube.comwatchv=Dg5VXhpkouQ.mp3\")\n",
        "chunk_duration = 60  # Duration of each chunk in seconds\n",
        "start_time = 0  # Starting time of the first chunk in seconds\n",
        "\n",
        "audio_chunks = extract_audio_chunks(audio_file, chunk_duration, start_time)\n",
        "\n",
        "for i, chunk in enumerate(audio_chunks):\n",
        "    chunk.write_audiofile(f\"chunk_{i}.mp3\")  # Save each chunk as a separate audio file\n"
      ],
      "metadata": {
        "colab": {
          "base_uri": "https://localhost:8080/"
        },
        "id": "9dsDzwBF8ZQN",
        "outputId": "37410ed3-9139-49aa-ea13-4c0ee9c95cc0"
      },
      "execution_count": 22,
      "outputs": [
        {
          "output_type": "stream",
          "name": "stdout",
          "text": [
            "MoviePy - Writing audio in chunk_0.mp3\n"
          ]
        },
        {
          "output_type": "stream",
          "name": "stderr",
          "text": []
        },
        {
          "output_type": "stream",
          "name": "stdout",
          "text": [
            "MoviePy - Done.\n",
            "MoviePy - Writing audio in chunk_1.mp3\n"
          ]
        },
        {
          "output_type": "stream",
          "name": "stderr",
          "text": []
        },
        {
          "output_type": "stream",
          "name": "stdout",
          "text": [
            "MoviePy - Done.\n",
            "MoviePy - Writing audio in chunk_2.mp3\n"
          ]
        },
        {
          "output_type": "stream",
          "name": "stderr",
          "text": []
        },
        {
          "output_type": "stream",
          "name": "stdout",
          "text": [
            "MoviePy - Done.\n",
            "MoviePy - Writing audio in chunk_3.mp3\n"
          ]
        },
        {
          "output_type": "stream",
          "name": "stderr",
          "text": [
            "                                                                    "
          ]
        },
        {
          "output_type": "stream",
          "name": "stdout",
          "text": [
            "MoviePy - Done.\n"
          ]
        },
        {
          "output_type": "stream",
          "name": "stderr",
          "text": [
            "\r"
          ]
        }
      ]
    }
  ]
}